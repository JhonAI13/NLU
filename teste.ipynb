{
 "cells": [
  {
   "cell_type": "markdown",
   "id": "d6f265ce",
   "metadata": {},
   "source": [
    "# Instalar bibliotecas principais\n",
    "!pip install spacy pandas scikit-learn psutil matplotlib seaborn\n",
    "\n",
    "# !!! INSTALAR OS DADOS DE CONSULTA PARA EVITAR O ERRO E955 !!!\n",
    "!pip install spacy-lookups-data\n",
    "\n",
    "# Baixar os modelos de língua portuguesa do spaCy\n",
    "!python -m spacy download pt_core_news_sm\n",
    "!python -m spacy download pt_core_news_md\n",
    "!python -m spacy download pt_core_news_lg"
   ]
  },
  {
   "cell_type": "code",
   "execution_count": 1,
   "id": "07f027dd",
   "metadata": {},
   "outputs": [
    {
     "name": "stdout",
     "output_type": "stream",
     "text": [
      "Name: spacy-lookups-data\n",
      "Version: 1.0.5\n",
      "Summary: Additional lookup tables and data resources for spaCy\n",
      "Home-page: https://spacy.io\n",
      "Author: Explosion\n",
      "Author-email: contact@explosion.ai\n",
      "License: MIT\n",
      "Location: C:\\Users\\jonat\\Documents\\GitHub\\NLU\\.env\\Lib\\site-packages\n",
      "Requires: setuptools\n",
      "Required-by: \n"
     ]
    }
   ],
   "source": [
    "!pip show spacy-lookups-data"
   ]
  },
  {
   "cell_type": "code",
   "execution_count": 2,
   "id": "96ec1938",
   "metadata": {},
   "outputs": [
    {
     "name": "stdout",
     "output_type": "stream",
     "text": [
      "✅ Modelo 'pt_core_news_md' carregado com sucesso!\n",
      "\n",
      "--- 1. Análise de Tokens (Palavras) ---\n",
      "TEXTO           LEMA            CLASSE GRAM.\n",
      "---------------------------------------------\n",
      "A               o               DET\n",
      "Google          Google          PROPN\n",
      ",               ,               PUNCT\n",
      "localizada      localizar       VERB\n",
      "na              em o            ADP\n",
      "Califórnia      Califórnia      PROPN\n",
      ",               ,               PUNCT\n",
      "anunciou        anunciar        VERB\n",
      "a               o               DET\n",
      "compra          compra          NOUN\n",
      "de              de              ADP\n",
      "uma             um              DET\n",
      "startup         startup         NOUN\n",
      "por             por             ADP\n",
      "R$              R$              SYM\n",
      "5               5               NUM\n",
      "milhões         milhão          NUM\n",
      ".               .               PUNCT\n",
      "\n",
      "--- 2. Reconhecimento de Entidades Nomeadas (NER) ---\n",
      "ENTIDADE                       TIPO\n",
      "---------------------------------------------\n",
      "Google                         ORG\n",
      "Califórnia                     LOC\n"
     ]
    }
   ],
   "source": [
    "import spacy\n",
    "\n",
    "def testar_spacy_pt_core_news_md():\n",
    "    \"\"\"\n",
    "    Função para carregar e testar o modelo pt_core_news_md do spaCy.\n",
    "    Ele processa um texto de exemplo e exibe a análise de tokens e\n",
    "    o reconhecimento de entidades nomeadas.\n",
    "    \"\"\"\n",
    "    nome_modelo = \"pt_core_news_md\"\n",
    "    \n",
    "    try:\n",
    "        # Tenta carregar o modelo de linguagem portuguesa.\n",
    "        # pt_core_news_md é um modelo médio para português treinado em notícias. [11]\n",
    "        nlp = spacy.load(nome_modelo)\n",
    "        print(f\"✅ Modelo '{nome_modelo}' carregado com sucesso!\\n\")\n",
    "\n",
    "    except OSError:\n",
    "        print(f\"❌ Erro: O modelo '{nome_modelo}' não foi encontrado.\")\n",
    "        print(\"   Por favor, instale o modelo executando o seguinte comando no seu terminal:\")\n",
    "        print(f\"   python -m spacy download {nome_modelo}\")\n",
    "        return\n",
    "\n",
    "    # Texto de exemplo para análise\n",
    "    texto = \"A Google, localizada na Califórnia, anunciou a compra de uma startup por R$ 5 milhões.\"\n",
    "\n",
    "    # Processa o texto com o pipeline do spaCy para criar um objeto 'Doc'. [4]\n",
    "    doc = nlp(texto)\n",
    "\n",
    "    print(\"--- 1. Análise de Tokens (Palavras) ---\")\n",
    "    print(f\"{'TEXTO':<15} {'LEMA':<15} {'CLASSE GRAM.'}\")\n",
    "    print(\"-\" * 45)\n",
    "    \n",
    "    # Itera sobre cada token no documento e imprime seus atributos\n",
    "    for token in doc:\n",
    "        print(f\"{token.text:<15} {token.lemma_:<15} {token.pos_}\")\n",
    "\n",
    "    print(\"\\n--- 2. Reconhecimento de Entidades Nomeadas (NER) ---\")\n",
    "    print(f\"{'ENTIDADE':<30} {'TIPO'}\")\n",
    "    print(\"-\" * 45)\n",
    "\n",
    "    # Verifica se alguma entidade foi encontrada\n",
    "    if doc.ents:\n",
    "        # Itera sobre as entidades nomeadas (NER) encontradas no documento\n",
    "        for entidade in doc.ents:\n",
    "            print(f\"{entidade.text:<30} {entidade.label_}\")\n",
    "    else:\n",
    "        print(\"Nenhuma entidade nomeada foi encontrada no texto.\")\n",
    "\n",
    "# Ponto de entrada do script\n",
    "if __name__ == \"__main__\":\n",
    "    testar_spacy_pt_core_news_md()"
   ]
  }
 ],
 "metadata": {
  "kernelspec": {
   "display_name": ".env",
   "language": "python",
   "name": "python3"
  },
  "language_info": {
   "codemirror_mode": {
    "name": "ipython",
    "version": 3
   },
   "file_extension": ".py",
   "mimetype": "text/x-python",
   "name": "python",
   "nbconvert_exporter": "python",
   "pygments_lexer": "ipython3",
   "version": "3.12.5"
  }
 },
 "nbformat": 4,
 "nbformat_minor": 5
}
