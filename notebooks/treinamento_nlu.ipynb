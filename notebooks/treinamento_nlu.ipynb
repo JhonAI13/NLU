{
 "cells": [
  {
   "cell_type": "code",
   "execution_count": 1,
   "id": "1cd951d8",
   "metadata": {},
   "outputs": [],
   "source": [
    "# Para manipulação e análise de dados\n",
    "import pandas as pd\n",
    "import numpy as np\n",
    "import json\n",
    "\n",
    "# Para visualização de dados\n",
    "import matplotlib.pyplot as plt\n",
    "import seaborn as sns\n",
    "\n",
    "# analise\n",
    "import spacy\n",
    "from spacy.tokens import DocBin\n",
    "from sklearn.model_selection import train_test_split\n",
    "from sklearn.feature_extraction.text import TfidfVectorizer\n",
    "from sklearn.linear_model import LogisticRegression\n",
    "from sklearn.metrics import classification_report, accuracy_score, confusion_matrix\n",
    "\n",
    "# Para salvar o modelo treinado\n",
    "import pickle\n",
    "\n",
    "\n",
    "import json\n",
    "import pandas as pd\n",
    "from sklearn.model_selection import train_test_split\n",
    "from collections import Counter\n",
    "\n",
    "\n",
    "from sklearn.model_selection import train_test_split\n",
    "from collections import Counter"
   ]
  },
  {
   "cell_type": "code",
   "execution_count": 2,
   "id": "74d09f55",
   "metadata": {},
   "outputs": [],
   "source": [
    "dataset = 'loja_eletronico.json'\n",
    "caminho_dataset = f'../datasets/{dataset}'\n",
    "nlp = spacy.load(\"pt_core_news_md\")"
   ]
  },
  {
   "cell_type": "code",
   "execution_count": 3,
   "id": "19cc9f47",
   "metadata": {},
   "outputs": [
    {
     "name": "stdout",
     "output_type": "stream",
     "text": [
      "Distribuição dos valores de entidades entre Treino e Desenvolvimento:\n"
     ]
    },
    {
     "data": {
      "application/vnd.microsoft.datawrangler.viewer.v0+json": {
       "columns": [
        {
         "name": "index",
         "rawType": "object",
         "type": "string"
        },
        {
         "name": "Contagem Treino",
         "rawType": "int32",
         "type": "integer"
        },
        {
         "name": "Contagem Dev",
         "rawType": "int32",
         "type": "integer"
        }
       ],
       "ref": "5e246f40-3fa5-41c5-a0a7-25bb856c1095",
       "rows": [
        [
         "Dell XPS 15",
         "14",
         "2"
        ],
        [
         "Galaxy S25 Ultra",
         "12",
         "4"
        ],
        [
         "HP Spectre x360",
         "14",
         "2"
        ],
        [
         "MacBook Air M4",
         "12",
         "4"
        ],
        [
         "Nintendo Switch OLED",
         "12",
         "4"
        ],
        [
         "Pixel 10",
         "13",
         "3"
        ],
        [
         "PlayStation 5 Slim",
         "14",
         "2"
        ],
        [
         "Sony WH-1000XM6",
         "13",
         "4"
        ],
        [
         "Xbox Series X",
         "13",
         "3"
        ],
        [
         "acessórios para celular",
         "1",
         "0"
        ],
        [
         "aparelhos de som",
         "1",
         "0"
        ],
        [
         "ar-condicionado",
         "0",
         "1"
        ],
        [
         "artigos de decoração",
         "1",
         "0"
        ],
        [
         "artigos esportivos",
         "1",
         "0"
        ],
        [
         "aspiradores de pó",
         "1",
         "0"
        ],
        [
         "automotivo",
         "1",
         "0"
        ],
        [
         "balanças digitais",
         "1",
         "0"
        ],
        [
         "batedeiras",
         "1",
         "0"
        ],
        [
         "baterias eletrônicas",
         "1",
         "0"
        ],
        [
         "bebês",
         "1",
         "0"
        ],
        [
         "beleza e perfumaria",
         "0",
         "1"
        ],
        [
         "berços",
         "0",
         "1"
        ],
        [
         "bicicletas",
         "1",
         "0"
        ],
        [
         "brinquedos",
         "1",
         "0"
        ],
        [
         "brinquedos para gato",
         "1",
         "0"
        ],
        [
         "cadeiras gamer",
         "1",
         "0"
        ],
        [
         "cadernos",
         "1",
         "0"
        ],
        [
         "caixas de som",
         "1",
         "0"
        ],
        [
         "calçados",
         "1",
         "0"
        ],
        [
         "calças jeans",
         "1",
         "0"
        ],
        [
         "cama",
         "1",
         "0"
        ],
        [
         "camisetas",
         "1",
         "0"
        ],
        [
         "canetas",
         "1",
         "0"
        ],
        [
         "capinhas",
         "1",
         "0"
        ],
        [
         "carregadores",
         "1",
         "0"
        ],
        [
         "carrinhos de bebê",
         "1",
         "0"
        ],
        [
         "celulares",
         "1",
         "0"
        ],
        [
         "centrais multimídia",
         "1",
         "0"
        ],
        [
         "computadores",
         "1",
         "0"
        ],
        [
         "console de videogame",
         "11",
         "0"
        ],
        [
         "consoles de videogame",
         "40",
         "9"
        ],
        [
         "controles de videogame",
         "0",
         "1"
        ],
        [
         "cortadores de grama",
         "1",
         "0"
        ],
        [
         "cremes hidratantes",
         "1",
         "0"
        ],
        [
         "câmeras fotográficas",
         "1",
         "0"
        ],
        [
         "drones",
         "1",
         "0"
        ],
        [
         "eletrodomésticos",
         "1",
         "0"
        ],
        [
         "eletroportáteis",
         "0",
         "1"
        ],
        [
         "equipamentos de informática",
         "1",
         "0"
        ],
        [
         "ferramentas elétricas",
         "1",
         "0"
        ]
       ],
       "shape": {
        "columns": 2,
        "rows": 108
       }
      },
      "text/html": [
       "<div>\n",
       "<style scoped>\n",
       "    .dataframe tbody tr th:only-of-type {\n",
       "        vertical-align: middle;\n",
       "    }\n",
       "\n",
       "    .dataframe tbody tr th {\n",
       "        vertical-align: top;\n",
       "    }\n",
       "\n",
       "    .dataframe thead th {\n",
       "        text-align: right;\n",
       "    }\n",
       "</style>\n",
       "<table border=\"1\" class=\"dataframe\">\n",
       "  <thead>\n",
       "    <tr style=\"text-align: right;\">\n",
       "      <th></th>\n",
       "      <th>Contagem Treino</th>\n",
       "      <th>Contagem Dev</th>\n",
       "    </tr>\n",
       "  </thead>\n",
       "  <tbody>\n",
       "    <tr>\n",
       "      <th>Dell XPS 15</th>\n",
       "      <td>14</td>\n",
       "      <td>2</td>\n",
       "    </tr>\n",
       "    <tr>\n",
       "      <th>Galaxy S25 Ultra</th>\n",
       "      <td>12</td>\n",
       "      <td>4</td>\n",
       "    </tr>\n",
       "    <tr>\n",
       "      <th>HP Spectre x360</th>\n",
       "      <td>14</td>\n",
       "      <td>2</td>\n",
       "    </tr>\n",
       "    <tr>\n",
       "      <th>MacBook Air M4</th>\n",
       "      <td>12</td>\n",
       "      <td>4</td>\n",
       "    </tr>\n",
       "    <tr>\n",
       "      <th>Nintendo Switch OLED</th>\n",
       "      <td>12</td>\n",
       "      <td>4</td>\n",
       "    </tr>\n",
       "    <tr>\n",
       "      <th>...</th>\n",
       "      <td>...</td>\n",
       "      <td>...</td>\n",
       "    </tr>\n",
       "    <tr>\n",
       "      <th>violões</th>\n",
       "      <td>1</td>\n",
       "      <td>0</td>\n",
       "    </tr>\n",
       "    <tr>\n",
       "      <th>wearables</th>\n",
       "      <td>1</td>\n",
       "      <td>0</td>\n",
       "    </tr>\n",
       "    <tr>\n",
       "      <th>webcams</th>\n",
       "      <td>1</td>\n",
       "      <td>0</td>\n",
       "    </tr>\n",
       "    <tr>\n",
       "      <th>áudio e vídeo</th>\n",
       "      <td>0</td>\n",
       "      <td>1</td>\n",
       "    </tr>\n",
       "    <tr>\n",
       "      <th>óculos de sol</th>\n",
       "      <td>1</td>\n",
       "      <td>0</td>\n",
       "    </tr>\n",
       "  </tbody>\n",
       "</table>\n",
       "<p>108 rows × 2 columns</p>\n",
       "</div>"
      ],
      "text/plain": [
       "                      Contagem Treino  Contagem Dev\n",
       "Dell XPS 15                        14             2\n",
       "Galaxy S25 Ultra                   12             4\n",
       "HP Spectre x360                    14             2\n",
       "MacBook Air M4                     12             4\n",
       "Nintendo Switch OLED               12             4\n",
       "...                               ...           ...\n",
       "violões                             1             0\n",
       "wearables                           1             0\n",
       "webcams                             1             0\n",
       "áudio e vídeo                       0             1\n",
       "óculos de sol                       1             0\n",
       "\n",
       "[108 rows x 2 columns]"
      ]
     },
     "metadata": {},
     "output_type": "display_data"
    }
   ],
   "source": [
    "# --- Configuração ---\n",
    "PERCENTUAL_TREINO = 0.8  \n",
    "\n",
    "# --- Carregamento e Preparação ---\n",
    "with open(caminho_dataset, 'r', encoding='utf-8') as f:\n",
    "    data = json.load(f)\n",
    "\n",
    "# Criar rótulos para estratificação combinando intenção e tipos de entidade\n",
    "stratify_labels = [\n",
    "    f\"{item['intent']}_{'_'.join(sorted(set(e['entity'] for e in item.get('entities', [])))) or 'NO_ENTITY'}\"\n",
    "    for item in data\n",
    "]\n",
    "\n",
    "# --- Divisão Estratificada ---\n",
    "dados_treino, dados_dev = train_test_split(\n",
    "    data, \n",
    "    train_size=PERCENTUAL_TREINO, \n",
    "    random_state=42, \n",
    "    stratify=stratify_labels\n",
    ")\n",
    "\n",
    "df_treino = pd.DataFrame(dados_treino)\n",
    "df_dev = pd.DataFrame(dados_dev)\n",
    "\n",
    "# --- Verificação da Distribuição dos Valores ---\n",
    "def contar_valores(df):\n",
    "    return Counter(v['value'] for ents in df['entities'].dropna() for v in ents)\n",
    "\n",
    "contagem_treino = contar_valores(df_treino)\n",
    "contagem_dev = contar_valores(df_dev)\n",
    "\n",
    "df_dist_valores = pd.DataFrame({\n",
    "    'Contagem Treino': pd.Series(contagem_treino),\n",
    "    'Contagem Dev': pd.Series(contagem_dev)\n",
    "}).fillna(0).astype(int).sort_index()\n",
    "\n",
    "# Exibe o resultado final\n",
    "print(\"Distribuição dos valores de entidades entre Treino e Desenvolvimento:\")\n",
    "display(df_dist_valores)"
   ]
  },
  {
   "cell_type": "code",
   "execution_count": 4,
   "id": "0cad2957",
   "metadata": {},
   "outputs": [
    {
     "name": "stdout",
     "output_type": "stream",
     "text": [
      "--- Iniciando Treinamento ---\n"
     ]
    },
    {
     "name": "stderr",
     "output_type": "stream",
     "text": [
      "c:\\Users\\jonat\\Documents\\GitHub\\NLU\\.env\\Lib\\site-packages\\spacy\\training\\iob_utils.py:149: UserWarning: [W030] Some entities could not be aligned in the text \"Valor do Xbox Series X.\" with entities \"[(9, 22, 'produto_especifico')]\". Use `spacy.training.offsets_to_biluo_tags(nlp.make_doc(text), entities)` to check the alignment. Misaligned entities ('-') will be ignored during training.\n",
      "  warnings.warn(\n",
      "c:\\Users\\jonat\\Documents\\GitHub\\NLU\\.env\\Lib\\site-packages\\spacy\\training\\iob_utils.py:149: UserWarning: [W030] Some entities could not be aligned in the text \"Quero o Xbox Series X. A categoria é consoles de v...\" with entities \"[(8, 21, 'produto_especifico'), (37, 58, 'categori...\". Use `spacy.training.offsets_to_biluo_tags(nlp.make_doc(text), entities)` to check the alignment. Misaligned entities ('-') will be ignored during training.\n",
      "  warnings.warn(\n",
      "c:\\Users\\jonat\\Documents\\GitHub\\NLU\\.env\\Lib\\site-packages\\spacy\\training\\iob_utils.py:149: UserWarning: [W030] Some entities could not be aligned in the text \"Busco o console de videogame Xbox Series X.\" with entities \"[(8, 28, 'categoria_produto'), (29, 42, 'produto_e...\". Use `spacy.training.offsets_to_biluo_tags(nlp.make_doc(text), entities)` to check the alignment. Misaligned entities ('-') will be ignored during training.\n",
      "  warnings.warn(\n",
      "c:\\Users\\jonat\\Documents\\GitHub\\NLU\\.env\\Lib\\site-packages\\spacy\\training\\iob_utils.py:149: UserWarning: [W030] Some entities could not be aligned in the text \"Estou interessado em um console de videogame, o Xb...\" with entities \"[(24, 44, 'categoria_produto'), (48, 61, 'produto_...\". Use `spacy.training.offsets_to_biluo_tags(nlp.make_doc(text), entities)` to check the alignment. Misaligned entities ('-') will be ignored during training.\n",
      "  warnings.warn(\n",
      "c:\\Users\\jonat\\Documents\\GitHub\\NLU\\.env\\Lib\\site-packages\\spacy\\training\\iob_utils.py:149: UserWarning: [W030] Some entities could not be aligned in the text \"Na categoria consoles de videogame, busco o Xbox S...\" with entities \"[(13, 34, 'categoria_produto'), (44, 57, 'produto_...\". Use `spacy.training.offsets_to_biluo_tags(nlp.make_doc(text), entities)` to check the alignment. Misaligned entities ('-') will be ignored during training.\n",
      "  warnings.warn(\n"
     ]
    },
    {
     "name": "stdout",
     "output_type": "stream",
     "text": [
      "Iteração 5/30 - Perda (Loss): 36.253\n",
      "Iteração 10/30 - Perda (Loss): 31.371\n",
      "Iteração 15/30 - Perda (Loss): 7.366\n",
      "Iteração 20/30 - Perda (Loss): 15.455\n",
      "Iteração 25/30 - Perda (Loss): 4.919\n",
      "Iteração 30/30 - Perda (Loss): 22.645\n",
      "Iteração 35/30 - Perda (Loss): 2.000\n",
      "Iteração 40/30 - Perda (Loss): 6.902\n",
      "\n",
      "--- Avaliando o modelo com dados nunca vistos (dev set) ---\n"
     ]
    },
    {
     "name": "stderr",
     "output_type": "stream",
     "text": [
      "c:\\Users\\jonat\\Documents\\GitHub\\NLU\\.env\\Lib\\site-packages\\spacy\\training\\iob_utils.py:149: UserWarning: [W030] Some entities could not be aligned in the text \"Na seção de consoles de videogame, estou procurand...\" with entities \"[(12, 33, 'categoria_produto'), (54, 67, 'produto_...\". Use `spacy.training.offsets_to_biluo_tags(nlp.make_doc(text), entities)` to check the alignment. Misaligned entities ('-') will be ignored during training.\n",
      "  warnings.warn(\n"
     ]
    },
    {
     "name": "stdout",
     "output_type": "stream",
     "text": [
      "Precisão (P): 0.97\n",
      "Recall (R): 0.95\n",
      "F-Score (F1): 0.96\n",
      "\n",
      "✅ Modelo NER final salvo em '../models/loja_eletronico_finetuned_correto'\n"
     ]
    }
   ],
   "source": [
    "# Célula 4 - Código Completo e Corrigido\n",
    "\n",
    "import spacy\n",
    "import random\n",
    "import json\n",
    "from spacy.training.example import Example\n",
    "from spacy.scorer import Scorer\n",
    "\n",
    "# --- 1. CONVERSÃO DOS DADOS JÁ SEPARADOS ---\n",
    "\n",
    "# Função auxiliar para converter o formato para o que o spaCy precisa\n",
    "def converter_para_formato_spacy(dados):\n",
    "    dados_formatados = []\n",
    "    for item in dados:\n",
    "        texto = item['text']\n",
    "        entidades_validas = []\n",
    "        for ent in item.get('entities', []):\n",
    "            # ===================================================================\n",
    "            # MUDANÇA CRUCIAL AQUI:\n",
    "            # Só adiciona a entidade se ela tiver os índices 'start' e 'end'.\n",
    "            # Isso garante que apenas entidades textuais sejam usadas para o treino do NER.\n",
    "            # ===================================================================\n",
    "            if 'start' in ent and 'end' in ent:\n",
    "                entidades_validas.append((ent['start'], ent['end'], ent['entity']))\n",
    "        \n",
    "        # Só adiciona o exemplo se ele tiver entidades válidas para o treino\n",
    "        if entidades_validas:\n",
    "            dados_formatados.append((texto, {\"entities\": entidades_validas}))\n",
    "            \n",
    "    return dados_formatados\n",
    "\n",
    "# Agora usamos as variáveis que você já criou: dados_treino e dados_dev\n",
    "TRAIN_DATA = converter_para_formato_spacy(dados_treino)\n",
    "DEV_DATA = converter_para_formato_spacy(dados_dev)\n",
    "\n",
    "\n",
    "# --- 2. CONFIGURAÇÃO DO MODELO (Fine-Tuning) ---\n",
    "DIRETORIO_SAIDA = f\"../models/{dataset.replace('.json', '_finetuned_correto')}\"\n",
    "nlp = spacy.load(\"pt_core_news_md\")\n",
    "ner = nlp.get_pipe(\"ner\")\n",
    "\n",
    "# Adiciona os novos rótulos ao NER existente\n",
    "for _, annotations in TRAIN_DATA:\n",
    "    for ent in annotations.get(\"entities\"):\n",
    "        ner.add_label(ent[2])\n",
    "\n",
    "# --- 3. TREINAMENTO DO MODELO COM OS DADOS DE TREINO ---\n",
    "other_pipes = [pipe for pipe in nlp.pipe_names if pipe != \"ner\"]\n",
    "with nlp.select_pipes(disable=other_pipes):\n",
    "    optimizer = nlp.begin_training()\n",
    "    print(\"--- Iniciando Treinamento ---\")\n",
    "    # Aumentando o número de iterações para um melhor aprendizado\n",
    "    for iteration in range(40): # <<-- Sugestão: Aumentar para 30 iterações\n",
    "        random.shuffle(TRAIN_DATA)\n",
    "        losses = {}\n",
    "        for text, annotations in TRAIN_DATA:\n",
    "            doc = nlp.make_doc(text)\n",
    "            example = Example.from_dict(doc, annotations)\n",
    "            nlp.update([example], sgd=optimizer, drop=0.35, losses=losses)\n",
    "        # Imprime a perda a cada 5 iterações para não poluir a saída\n",
    "        if (iteration + 1) % 5 == 0:\n",
    "            print(f\"Iteração {iteration + 1}/30 - Perda (Loss): {losses['ner']:.3f}\")\n",
    "\n",
    "# --- 4. AVALIAÇÃO COM OS DADOS DE DESENVOLVIMENTO ---\n",
    "print(\"\\n--- Avaliando o modelo com dados nunca vistos (dev set) ---\")\n",
    "scorer = Scorer()\n",
    "examples = []\n",
    "for text, annotations in DEV_DATA:\n",
    "    # A predição é feita no texto puro\n",
    "    doc_pred = nlp(text) \n",
    "    # O Example é criado para comparar a predição com as anotações corretas\n",
    "    example = Example.from_dict(doc_pred, annotations)\n",
    "    examples.append(example)\n",
    "\n",
    "# Calcula as métricas (Precisão, Recall, F-score)\n",
    "scores = scorer.score(examples)\n",
    "print(f\"Precisão (P): {scores['ents_p']:.2f}\")\n",
    "print(f\"Recall (R): {scores['ents_r']:.2f}\")\n",
    "print(f\"F-Score (F1): {scores['ents_f']:.2f}\")\n",
    "\n",
    "# --- 5. SALVAR O MODELO FINAL ---\n",
    "nlp.to_disk(DIRETORIO_SAIDA)\n",
    "print(f\"\\n✅ Modelo NER final salvo em '{DIRETORIO_SAIDA}'\")"
   ]
  },
  {
   "cell_type": "code",
   "execution_count": 22,
   "id": "dc465bd9",
   "metadata": {},
   "outputs": [
    {
     "name": "stdout",
     "output_type": "stream",
     "text": [
      "\n",
      "--- Testando o modelo treinado interativamente ---\n",
      "\n",
      "Frase: 'quanto custa um smartphone da samsung?'\n",
      "  -> Entidade encontrada: 'smartphone', Rótulo: 'categoria_produto'\n",
      "  -> Entidade encontrada: 'samsung', Rótulo: 'categoria_produto'\n",
      "\n",
      "Frase: 'quero comprar um notebook da apple'\n",
      "  -> Entidade encontrada: 'notebook', Rótulo: 'categoria_produto'\n",
      "  -> Entidade encontrada: 'apple', Rótulo: 'produto_especifico'\n",
      "\n",
      "Frase: 'me ve um fone de ouvido da sony'\n",
      "  -> Entidade encontrada: 'fone de ouvido', Rótulo: 'categoria_produto'\n",
      "  -> Entidade encontrada: 'sony', Rótulo: 'categoria_produto'\n",
      "\n",
      "Frase: 'tchau!'\n",
      "  -> Nenhuma entidade encontrada.\n"
     ]
    }
   ],
   "source": [
    "\n",
    "# --- 6. TESTE INTERATIVO ---\n",
    "print(\"\\n--- Testando o modelo treinado interativamente ---\")\n",
    "nlp_test = spacy.load(DIRETORIO_SAIDA)\n",
    "frases_teste = [\n",
    "    \"quanto custa um smartphone da samsung?\",\n",
    "    \"quero comprar um notebook da apple\",\n",
    "    \"me ve um fone de ouvido da sony\",  \"tchau!\"]\n",
    "for frase in frases_teste:\n",
    "    doc = nlp_test(frase)\n",
    "    print(f\"\\nFrase: '{frase}'\")\n",
    "    if doc.ents:\n",
    "        for ent in doc.ents:\n",
    "            print(f\"  -> Entidade encontrada: '{ent.text}', Rótulo: '{ent.label_}'\")\n",
    "    else:\n",
    "        print(\"  -> Nenhuma entidade encontrada.\")"
   ]
  }
 ],
 "metadata": {
  "kernelspec": {
   "display_name": ".env",
   "language": "python",
   "name": "python3"
  },
  "language_info": {
   "codemirror_mode": {
    "name": "ipython",
    "version": 3
   },
   "file_extension": ".py",
   "mimetype": "text/x-python",
   "name": "python",
   "nbconvert_exporter": "python",
   "pygments_lexer": "ipython3",
   "version": "3.12.5"
  }
 },
 "nbformat": 4,
 "nbformat_minor": 5
}
