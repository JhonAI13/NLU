{
 "cells": [
  {
   "cell_type": "code",
   "execution_count": null,
   "id": "1cd951d8",
   "metadata": {},
   "outputs": [],
   "source": [
    "# Para manipulação e análise de dados\n",
    "import pandas as pd\n",
    "import numpy as np\n",
    "import json\n",
    "\n",
    "# Para visualização de dados\n",
    "import matplotlib.pyplot as plt\n",
    "import seaborn as sns\n",
    "\n",
    "# analise\n",
    "import spacy\n",
    "from spacy.tokens import DocBin\n",
    "from sklearn.model_selection import train_test_split\n",
    "from sklearn.feature_extraction.text import TfidfVectorizer\n",
    "from sklearn.linear_model import LogisticRegression\n",
    "from sklearn.metrics import classification_report, accuracy_score, confusion_matrix\n",
    "\n",
    "# Para salvar o modelo treinado\n",
    "import pickle\n",
    "\n",
    "\n",
    "import json\n",
    "import pandas as pd\n",
    "from sklearn.model_selection import train_test_split\n",
    "from collections import Counter\n",
    "\n",
    "\n",
    "from sklearn.model_selection import train_test_split\n",
    "from collections import Counter"
   ]
  },
  {
   "cell_type": "code",
   "execution_count": 2,
   "id": "74d09f55",
   "metadata": {},
   "outputs": [],
   "source": [
    "dataset = 'loja_eletronico.json'\n",
    "caminho_dataset = f'../datasets/{dataset}'\n",
    "nlp = spacy.load(\"pt_core_news_md\")\n",
    "\n",
    "PERCENTUAL_TREINO = 0.7  \n",
    "RANDOM_STATE = 42\n",
    "\n",
    "# --- CONFIGURAÇÃO PARA O TREINO ---\n",
    "EPOCAS = 30          # Número MÁXIMO de épocas. O treino pode parar antes.\n",
    "PATIENCE = 5         # Número de épocas para esperar sem melhora no F1-Score antes de parar."
   ]
  },
  {
   "cell_type": "code",
   "execution_count": 3,
   "id": "19cc9f47",
   "metadata": {},
   "outputs": [
    {
     "data": {
      "application/vnd.microsoft.datawrangler.viewer.v0+json": {
       "columns": [
        {
         "name": "index",
         "rawType": "object",
         "type": "string"
        },
        {
         "name": "Contagem Treino",
         "rawType": "int32",
         "type": "integer"
        },
        {
         "name": "Contagem Dev",
         "rawType": "int32",
         "type": "integer"
        }
       ],
       "ref": "bda37be1-6cdb-4a82-b923-bd3d87c437da",
       "rows": [
        [
         "Dell XPS 15",
         "12",
         "2"
        ],
        [
         "Galaxy S25 Ultra",
         "10",
         "3"
        ],
        [
         "HP Spectre x360",
         "12",
         "3"
        ],
        [
         "MacBook Air M4",
         "12",
         "1"
        ],
        [
         "Nintendo Switch OLED",
         "10",
         "4"
        ],
        [
         "Pixel 10",
         "13",
         "0"
        ],
        [
         "PlayStation 5 Slim",
         "11",
         "4"
        ],
        [
         "Sony WH-1000XM6",
         "12",
         "2"
        ],
        [
         "Xbox Series X",
         "12",
         "2"
        ],
        [
         "acessórios para celular",
         "1",
         "0"
        ],
        [
         "aparelhos de som",
         "1",
         "0"
        ],
        [
         "artigos de decoração",
         "1",
         "0"
        ],
        [
         "artigos esportivos",
         "1",
         "0"
        ],
        [
         "automotivo",
         "1",
         "0"
        ],
        [
         "balanças digitais",
         "1",
         "0"
        ],
        [
         "batedeiras",
         "1",
         "0"
        ],
        [
         "baterias eletrônicas",
         "1",
         "0"
        ],
        [
         "bebês",
         "1",
         "0"
        ],
        [
         "bicicletas",
         "1",
         "0"
        ],
        [
         "brinquedos",
         "0",
         "1"
        ],
        [
         "cadeiras gamer",
         "1",
         "0"
        ],
        [
         "cadernos",
         "1",
         "0"
        ],
        [
         "caixas de som",
         "1",
         "0"
        ],
        [
         "calçados",
         "1",
         "0"
        ],
        [
         "calças jeans",
         "1",
         "0"
        ],
        [
         "cama",
         "1",
         "0"
        ],
        [
         "camisetas",
         "1",
         "0"
        ],
        [
         "canetas",
         "1",
         "0"
        ],
        [
         "capinhas",
         "1",
         "0"
        ],
        [
         "carregadores",
         "1",
         "0"
        ],
        [
         "carrinhos de bebê",
         "0",
         "1"
        ],
        [
         "celulares",
         "1",
         "0"
        ],
        [
         "computadores",
         "1",
         "0"
        ],
        [
         "console de videogame",
         "9",
         "2"
        ],
        [
         "consoles de videogame",
         "34",
         "10"
        ],
        [
         "cremes hidratantes",
         "1",
         "0"
        ],
        [
         "câmeras fotográficas",
         "1",
         "0"
        ],
        [
         "drones",
         "1",
         "0"
        ],
        [
         "eletrodomésticos",
         "1",
         "0"
        ],
        [
         "equipamentos de informática",
         "1",
         "0"
        ],
        [
         "ferramentas elétricas",
         "1",
         "0"
        ],
        [
         "ferramentas manuais",
         "0",
         "1"
        ],
        [
         "fogões",
         "1",
         "0"
        ],
        [
         "fone de ouvido",
         "4",
         "0"
        ],
        [
         "fones de ouvido",
         "13",
         "2"
        ],
        [
         "games",
         "1",
         "0"
        ],
        [
         "geladeiras",
         "1",
         "0"
        ],
        [
         "guitarras",
         "0",
         "1"
        ],
        [
         "home theaters",
         "1",
         "0"
        ],
        [
         "iPhone 17 Pro",
         "9",
         "3"
        ]
       ],
       "shape": {
        "columns": 2,
        "rows": 95
       }
      },
      "text/html": [
       "<div>\n",
       "<style scoped>\n",
       "    .dataframe tbody tr th:only-of-type {\n",
       "        vertical-align: middle;\n",
       "    }\n",
       "\n",
       "    .dataframe tbody tr th {\n",
       "        vertical-align: top;\n",
       "    }\n",
       "\n",
       "    .dataframe thead th {\n",
       "        text-align: right;\n",
       "    }\n",
       "</style>\n",
       "<table border=\"1\" class=\"dataframe\">\n",
       "  <thead>\n",
       "    <tr style=\"text-align: right;\">\n",
       "      <th></th>\n",
       "      <th>Contagem Treino</th>\n",
       "      <th>Contagem Dev</th>\n",
       "    </tr>\n",
       "  </thead>\n",
       "  <tbody>\n",
       "    <tr>\n",
       "      <th>Dell XPS 15</th>\n",
       "      <td>12</td>\n",
       "      <td>2</td>\n",
       "    </tr>\n",
       "    <tr>\n",
       "      <th>Galaxy S25 Ultra</th>\n",
       "      <td>10</td>\n",
       "      <td>3</td>\n",
       "    </tr>\n",
       "    <tr>\n",
       "      <th>HP Spectre x360</th>\n",
       "      <td>12</td>\n",
       "      <td>3</td>\n",
       "    </tr>\n",
       "    <tr>\n",
       "      <th>MacBook Air M4</th>\n",
       "      <td>12</td>\n",
       "      <td>1</td>\n",
       "    </tr>\n",
       "    <tr>\n",
       "      <th>Nintendo Switch OLED</th>\n",
       "      <td>10</td>\n",
       "      <td>4</td>\n",
       "    </tr>\n",
       "    <tr>\n",
       "      <th>...</th>\n",
       "      <td>...</td>\n",
       "      <td>...</td>\n",
       "    </tr>\n",
       "    <tr>\n",
       "      <th>violões</th>\n",
       "      <td>1</td>\n",
       "      <td>0</td>\n",
       "    </tr>\n",
       "    <tr>\n",
       "      <th>wearables</th>\n",
       "      <td>1</td>\n",
       "      <td>0</td>\n",
       "    </tr>\n",
       "    <tr>\n",
       "      <th>webcams</th>\n",
       "      <td>1</td>\n",
       "      <td>0</td>\n",
       "    </tr>\n",
       "    <tr>\n",
       "      <th>áudio e vídeo</th>\n",
       "      <td>0</td>\n",
       "      <td>1</td>\n",
       "    </tr>\n",
       "    <tr>\n",
       "      <th>óculos de sol</th>\n",
       "      <td>1</td>\n",
       "      <td>0</td>\n",
       "    </tr>\n",
       "  </tbody>\n",
       "</table>\n",
       "<p>95 rows × 2 columns</p>\n",
       "</div>"
      ],
      "text/plain": [
       "                      Contagem Treino  Contagem Dev\n",
       "Dell XPS 15                        12             2\n",
       "Galaxy S25 Ultra                   10             3\n",
       "HP Spectre x360                    12             3\n",
       "MacBook Air M4                     12             1\n",
       "Nintendo Switch OLED               10             4\n",
       "...                               ...           ...\n",
       "violões                             1             0\n",
       "wearables                           1             0\n",
       "webcams                             1             0\n",
       "áudio e vídeo                       0             1\n",
       "óculos de sol                       1             0\n",
       "\n",
       "[95 rows x 2 columns]"
      ]
     },
     "metadata": {},
     "output_type": "display_data"
    }
   ],
   "source": [
    "# --- Carregamento ---\n",
    "with open(caminho_dataset, 'r', encoding='utf-8') as f:\n",
    "    data = json.load(f)\n",
    "\n",
    "# Criar rótulos para estratificação geral\n",
    "stratify_labels = [\n",
    "    f\"{item['intent']}_{'_'.join(sorted(set(e['entity'] for e in item.get('entities', [])))) or 'NO_ENTITY'}\"\n",
    "    for item in data\n",
    "]\n",
    "\n",
    "# --- Divisão Principal: Treino vs. Teste Geral (que será subdividido) ---\n",
    "dados_treino, dados_teste_geral = train_test_split(\n",
    "    data,\n",
    "    train_size=PERCENTUAL_TREINO,\n",
    "    random_state=RANDOM_STATE,\n",
    "    stratify=stratify_labels\n",
    ")\n",
    "\n",
    "# --- Divisão do Teste Geral: 50% para `dados_dev` e 50% para um novo conjunto ---\n",
    "stratify_labels_teste = [\n",
    "    f\"{item['intent']}_{'_'.join(sorted(set(e['entity'] for e in item.get('entities', [])))) or 'NO_ENTITY'}\"\n",
    "    for item in dados_teste_geral\n",
    "]\n",
    "\n",
    "# `dados_dev` mantém seu nome original, e o novo conjunto é criado a partir da outra metade\n",
    "dados_dev, dados_teste_nao_visto = train_test_split(\n",
    "    dados_teste_geral,\n",
    "    test_size=0.5, # Divide o conjunto de teste exatamente ao meio\n",
    "    random_state=RANDOM_STATE,\n",
    "    stratify=stratify_labels_teste\n",
    ")\n",
    "\n",
    "# --- Verificação da Distribuição (como no seu código original) ---\n",
    "df_treino = pd.DataFrame(dados_treino)\n",
    "df_dev = pd.DataFrame(dados_dev) # Agora `df_dev` representa apenas a primeira metade do teste\n",
    "df_test = pd.DataFrame(dados_teste_geral)\n",
    "def contar_valores(df):\n",
    "    return Counter(v['value'] for ents in df['entities'].dropna() for v in ents)\n",
    "\n",
    "contagem_treino = contar_valores(df_treino)\n",
    "contagem_dev = contar_valores(df_dev)\n",
    "\n",
    "df_dist_valores = pd.DataFrame({\n",
    "    'Contagem Treino': pd.Series(contagem_treino),\n",
    "    'Contagem Dev': pd.Series(contagem_dev)\n",
    "}).fillna(0).astype(int).sort_index()\n",
    "display(df_dist_valores)\n",
    "# O restante do seu código usará:\n",
    "# 1. dados_treino (para treinar)\n",
    "# 2. dados_dev (para o teste \"visto\", a primeira metade)\n",
    "# 3. dados_teste_nao_visto (para o teste \"não visto\", a segunda metade)"
   ]
  },
  {
   "cell_type": "code",
   "execution_count": 4,
   "id": "0cad2957",
   "metadata": {},
   "outputs": [],
   "source": [
    "# Célula 4 - Código Completo e Corrigido\n",
    "\n",
    "import spacy\n",
    "import random\n",
    "import json\n",
    "from spacy.training.example import Example\n",
    "from spacy.scorer import Scorer\n",
    "\n",
    "# --- 1. CONVERSÃO DOS DADOS JÁ SEPARADOS ---\n",
    "\n",
    "# Função auxiliar para converter o formato para o que o spaCy precisa\n",
    "def converter_para_formato_spacy(dados):\n",
    "    dados_formatados = []\n",
    "    for item in dados:\n",
    "        texto = item['text']\n",
    "        entidades_validas = []\n",
    "        for ent in item.get('entities', []):\n",
    "            # ===================================================================\n",
    "            # MUDANÇA CRUCIAL AQUI:\n",
    "            # Só adiciona a entidade se ela tiver os índices 'start' e 'end'.\n",
    "            # Isso garante que apenas entidades textuais sejam usadas para o treino do NER.\n",
    "            # ===================================================================\n",
    "            if 'start' in ent and 'end' in ent:\n",
    "                entidades_validas.append((ent['start'], ent['end'], ent['entity']))\n",
    "        \n",
    "        # Só adiciona o exemplo se ele tiver entidades válidas para o treino\n",
    "        if entidades_validas:\n",
    "            dados_formatados.append((texto, {\"entities\": entidades_validas}))\n",
    "            \n",
    "    return dados_formatados\n",
    "\n",
    "# Agora usamos as variáveis que você já criou: dados_treino e dados_dev\n",
    "TRAIN_DATA = converter_para_formato_spacy(dados_treino)\n",
    "DEV_DATA = converter_para_formato_spacy(dados_dev)\n",
    "TRAIN_FINISH = converter_para_formato_spacy(dados_teste_nao_visto)\n",
    "\n",
    "# --- 2. CONFIGURAÇÃO DO MODELO (Fine-Tuning) ---\n",
    "DIRETORIO_SAIDA = f\"../models/{dataset.replace('.json', '_finetuned_correto')}\"\n",
    "nlp = spacy.load(\"pt_core_news_md\")\n",
    "ner = nlp.get_pipe(\"ner\")\n",
    "\n",
    "# Adiciona os novos rótulos ao NER existente\n",
    "for _, annotations in TRAIN_DATA:\n",
    "    for ent in annotations.get(\"entities\"):\n",
    "        ner.add_label(ent[2])\n"
   ]
  },
  {
   "cell_type": "code",
   "execution_count": 12,
   "id": "0bb60c5d",
   "metadata": {},
   "outputs": [
    {
     "name": "stdout",
     "output_type": "stream",
     "text": [
      "--- Iniciando Treinamento com Early Stopping ---\n",
      "Otimizador: Adam | Épocas Máx.: 30 | Paciência: 5\n"
     ]
    },
    {
     "name": "stderr",
     "output_type": "stream",
     "text": [
      "c:\\Users\\jonat\\Documents\\GitHub\\NLU\\.env\\Lib\\site-packages\\spacy\\training\\iob_utils.py:149: UserWarning: [W030] Some entities could not be aligned in the text \"Valor do Xbox Series X.\" with entities \"[(9, 22, 'produto_especifico')]\". Use `spacy.training.offsets_to_biluo_tags(nlp.make_doc(text), entities)` to check the alignment. Misaligned entities ('-') will be ignored during training.\n",
      "  warnings.warn(\n",
      "c:\\Users\\jonat\\Documents\\GitHub\\NLU\\.env\\Lib\\site-packages\\spacy\\training\\iob_utils.py:149: UserWarning: [W030] Some entities could not be aligned in the text \"Na categoria consoles de videogame, busco o Xbox S...\" with entities \"[(13, 34, 'categoria_produto'), (44, 57, 'produto_...\". Use `spacy.training.offsets_to_biluo_tags(nlp.make_doc(text), entities)` to check the alignment. Misaligned entities ('-') will be ignored during training.\n",
      "  warnings.warn(\n",
      "c:\\Users\\jonat\\Documents\\GitHub\\NLU\\.env\\Lib\\site-packages\\spacy\\training\\iob_utils.py:149: UserWarning: [W030] Some entities could not be aligned in the text \"Quero o Xbox Series X. A categoria é consoles de v...\" with entities \"[(8, 21, 'produto_especifico'), (37, 58, 'categori...\". Use `spacy.training.offsets_to_biluo_tags(nlp.make_doc(text), entities)` to check the alignment. Misaligned entities ('-') will be ignored during training.\n",
      "  warnings.warn(\n",
      "c:\\Users\\jonat\\Documents\\GitHub\\NLU\\.env\\Lib\\site-packages\\spacy\\training\\iob_utils.py:149: UserWarning: [W030] Some entities could not be aligned in the text \"Estou interessado em um console de videogame, o Xb...\" with entities \"[(24, 44, 'categoria_produto'), (48, 61, 'produto_...\". Use `spacy.training.offsets_to_biluo_tags(nlp.make_doc(text), entities)` to check the alignment. Misaligned entities ('-') will be ignored during training.\n",
      "  warnings.warn(\n",
      "c:\\Users\\jonat\\Documents\\GitHub\\NLU\\.env\\Lib\\site-packages\\spacy\\training\\iob_utils.py:149: UserWarning: [W030] Some entities could not be aligned in the text \"Busco o console de videogame Xbox Series X.\" with entities \"[(8, 28, 'categoria_produto'), (29, 42, 'produto_e...\". Use `spacy.training.offsets_to_biluo_tags(nlp.make_doc(text), entities)` to check the alignment. Misaligned entities ('-') will be ignored during training.\n",
      "  warnings.warn(\n",
      "c:\\Users\\jonat\\Documents\\GitHub\\NLU\\.env\\Lib\\site-packages\\spacy\\training\\iob_utils.py:149: UserWarning: [W030] Some entities could not be aligned in the text \"Na seção de consoles de videogame, estou procurand...\" with entities \"[(12, 33, 'categoria_produto'), (54, 67, 'produto_...\". Use `spacy.training.offsets_to_biluo_tags(nlp.make_doc(text), entities)` to check the alignment. Misaligned entities ('-') will be ignored during training.\n",
      "  warnings.warn(\n"
     ]
    },
    {
     "name": "stdout",
     "output_type": "stream",
     "text": [
      "\n",
      "Iteração 2/30 -> Perda: 151.826 | F1-Score (Dev): 0.891 | Melhor F1: 0.693 (na época 1)\n",
      "🎉 Novo melhor F1-Score na época 2: 0.891. Modelo salvo.\n",
      "Iteração 4/30 -> Perda: 54.040 | F1-Score (Dev): 0.929 | Melhor F1: 0.918 (na época 3)\n",
      "🎉 Novo melhor F1-Score na época 4: 0.929. Modelo salvo.\n",
      "Iteração 6/30 -> Perda: 15.946 | F1-Score (Dev): 0.980 | Melhor F1: 0.959 (na época 5)\n",
      "Iteração 10/30 -> Perda: 21.406 | F1-Score (Dev): 0.980 | Melhor F1: 0.980 (na época 6)\n",
      "\n",
      "--- Paciência atingida (5 épocas sem melhora). Parada antecipada. ---\n",
      "\n",
      "Carregando e salvando o melhor modelo (da época 6) com F1-Score de 0.980\n",
      "✅ Modelo final salvo em '../models/loja_eletronico_finetuned_correto'\n"
     ]
    }
   ],
   "source": [
    "# Célula de Treinamento (Corrigida) - Com Early Stopping e Prints Ajustados\n",
    "\n",
    "import spacy\n",
    "import random\n",
    "from spacy.training.example import Example\n",
    "from spacy.scorer import Scorer\n",
    "\n",
    "# --- 1. PREPARAÇÃO DO TREINAMENTO ---\n",
    "other_pipes = [pipe for pipe in nlp.pipe_names if pipe != \"ner\"]\n",
    "\n",
    "# Variáveis para o controle do Early Stopping\n",
    "best_f1_score = 0.0\n",
    "patience_counter = 0\n",
    "best_model_data = None\n",
    "saved_at_iteration = -1\n",
    "\n",
    "print(\"--- Iniciando Treinamento com Early Stopping ---\")\n",
    "print(f\"Otimizador: Adam | Épocas Máx.: {EPOCAS} | Paciência: {PATIENCE}\")\n",
    "\n",
    "# --- 2. CICLO DE TREINAMENTO ---\n",
    "with nlp.select_pipes(disable=other_pipes):\n",
    "    optimizer = nlp.begin_training()\n",
    "    \n",
    "    for iteration in range(EPOCAS):\n",
    "        random.shuffle(TRAIN_DATA)\n",
    "        losses = {}\n",
    "        \n",
    "        # Treinamento\n",
    "        for text, annotations in TRAIN_DATA:\n",
    "            doc = nlp.make_doc(text)\n",
    "            example = Example.from_dict(doc, annotations)\n",
    "            nlp.update([example], sgd=optimizer, drop=0.35, losses=losses)\n",
    "            \n",
    "        # Avaliação no conjunto Dev\n",
    "        scorer = Scorer()\n",
    "        examples_dev = []\n",
    "        for text, annotations in DEV_DATA:\n",
    "            doc_pred = nlp(text)\n",
    "            example = Example.from_dict(doc_pred, annotations)\n",
    "            examples_dev.append(example)\n",
    "        \n",
    "        scores = scorer.score(examples_dev)\n",
    "        current_f1 = scores['ents_f']\n",
    "\n",
    "        # --- LÓGICA DE IMPRESSÃO CORRIGIDA ---\n",
    "        # 1. Imprime o status a cada 2 épocas\n",
    "        if (iteration + 1) % 2 == 0:\n",
    "            print(f\"\\rIteração {iteration + 1}/{EPOCAS} -> Perda: {losses['ner']:.3f} | F1-Score (Dev): {current_f1:.3f} | Melhor F1: {best_f1_score:.3f} (na época {saved_at_iteration})\", end=\"\")\n",
    "\n",
    "        # 2. Verifica se houve melhora e imprime APENAS se houver\n",
    "        if current_f1 > best_f1_score:\n",
    "            best_f1_score = current_f1\n",
    "            patience_counter = 0\n",
    "            best_model_data = nlp.to_bytes()\n",
    "            saved_at_iteration = iteration + 1\n",
    "            # Limpa a linha e imprime a mensagem de melhoria\n",
    "            print(f\"\\n🎉 Novo melhor F1-Score na época {saved_at_iteration}: {best_f1_score:.3f}. Modelo salvo.\", end=\"\")\n",
    "        else:\n",
    "            patience_counter += 1\n",
    "\n",
    "        # 3. Verifica se a paciência esgotou\n",
    "        if patience_counter >= PATIENCE:\n",
    "            print(f\"\\n\\n--- Paciência atingida ({PATIENCE} épocas sem melhora). Parada antecipada. ---\")\n",
    "            break\n",
    "\n",
    "# --- 3. FINALIZAÇÃO ---\n",
    "if best_model_data:\n",
    "    nlp.from_bytes(best_model_data)\n",
    "    print(f\"\\nCarregando e salvando o melhor modelo (da época {saved_at_iteration}) com F1-Score de {best_f1_score:.3f}\")\n",
    "else:\n",
    "    print(\"\\nNenhum modelo foi salvo, o treino não mostrou melhorias.\")\n",
    "\n",
    "nlp.to_disk(DIRETORIO_SAIDA)\n",
    "print(f\"✅ Modelo final salvo em '{DIRETORIO_SAIDA}'\")"
   ]
  },
  {
   "cell_type": "code",
   "execution_count": 13,
   "id": "dc465bd9",
   "metadata": {},
   "outputs": [
    {
     "name": "stdout",
     "output_type": "stream",
     "text": [
      "\n",
      "==================== AVALIANDO CONJUNTO: TESTE VISTO (DEV) ====================\n",
      "\n",
      "--- Métricas Gerais (spaCy Scorer) ---\n",
      "Precisão (P): 0.980\n",
      "Recall (R): 0.980\n",
      "F-Score (F1): 0.980\n",
      "\n",
      "--- Desempenho por Tipo de Entidade ---\n"
     ]
    },
    {
     "data": {
      "application/vnd.microsoft.datawrangler.viewer.v0+json": {
       "columns": [
        {
         "name": "index",
         "rawType": "object",
         "type": "string"
        },
        {
         "name": "p",
         "rawType": "float64",
         "type": "float"
        },
        {
         "name": "r",
         "rawType": "float64",
         "type": "float"
        },
        {
         "name": "f",
         "rawType": "float64",
         "type": "float"
        }
       ],
       "ref": "b974acaf-e3bb-4164-b2fe-210a78379d4a",
       "rows": [
        [
         "categoria_produto",
         "0.9615384615384616",
         "1.0",
         "0.9803921568627451"
        ],
        [
         "produto_especifico",
         "1.0",
         "0.9583333333333334",
         "0.9787234042553191"
        ]
       ],
       "shape": {
        "columns": 3,
        "rows": 2
       }
      },
      "text/html": [
       "<div>\n",
       "<style scoped>\n",
       "    .dataframe tbody tr th:only-of-type {\n",
       "        vertical-align: middle;\n",
       "    }\n",
       "\n",
       "    .dataframe tbody tr th {\n",
       "        vertical-align: top;\n",
       "    }\n",
       "\n",
       "    .dataframe thead th {\n",
       "        text-align: right;\n",
       "    }\n",
       "</style>\n",
       "<table border=\"1\" class=\"dataframe\">\n",
       "  <thead>\n",
       "    <tr style=\"text-align: right;\">\n",
       "      <th></th>\n",
       "      <th>p</th>\n",
       "      <th>r</th>\n",
       "      <th>f</th>\n",
       "    </tr>\n",
       "  </thead>\n",
       "  <tbody>\n",
       "    <tr>\n",
       "      <th>categoria_produto</th>\n",
       "      <td>0.961538</td>\n",
       "      <td>1.000000</td>\n",
       "      <td>0.980392</td>\n",
       "    </tr>\n",
       "    <tr>\n",
       "      <th>produto_especifico</th>\n",
       "      <td>1.000000</td>\n",
       "      <td>0.958333</td>\n",
       "      <td>0.978723</td>\n",
       "    </tr>\n",
       "  </tbody>\n",
       "</table>\n",
       "</div>"
      ],
      "text/plain": [
       "                           p         r         f\n",
       "categoria_produto   0.961538  1.000000  0.980392\n",
       "produto_especifico  1.000000  0.958333  0.978723"
      ]
     },
     "metadata": {},
     "output_type": "display_data"
    },
    {
     "name": "stdout",
     "output_type": "stream",
     "text": [
      "\n",
      "--- Relatório de Classificação Detalhado (Tags IOB) ---\n",
      "              precision    recall  f1-score   support\n",
      "\n",
      "                   0.00      0.00      0.00         3\n",
      "           B       0.98      1.00      0.99        49\n",
      "           I       0.99      1.00      0.99        68\n",
      "           O       1.00      1.00      1.00       215\n",
      "\n",
      "    accuracy                           0.99       335\n",
      "   macro avg       0.74      0.75      0.75       335\n",
      "weighted avg       0.98      0.99      0.99       335\n",
      "\n",
      "\n",
      "--- Matriz de Confusão (Tags IOB) ---\n"
     ]
    },
    {
     "data": {
      "image/png": "[encoded data removed]",
      "text/plain": [
       "<Figure size 1000x800 with 2 Axes>"
      ]
     },
     "metadata": {},
     "output_type": "display_data"
    },
    {
     "name": "stdout",
     "output_type": "stream",
     "text": [
      "\n",
      "==================== AVALIANDO CONJUNTO: TESTE NÃO VISTO ====================\n",
      "\n",
      "--- Métricas Gerais (spaCy Scorer) ---\n",
      "Precisão (P): 0.922\n",
      "Recall (R): 0.940\n",
      "F-Score (F1): 0.931\n",
      "\n",
      "--- Desempenho por Tipo de Entidade ---\n"
     ]
    },
    {
     "data": {
      "application/vnd.microsoft.datawrangler.viewer.v0+json": {
       "columns": [
        {
         "name": "index",
         "rawType": "object",
         "type": "string"
        },
        {
         "name": "p",
         "rawType": "float64",
         "type": "float"
        },
        {
         "name": "r",
         "rawType": "float64",
         "type": "float"
        },
        {
         "name": "f",
         "rawType": "float64",
         "type": "float"
        }
       ],
       "ref": "0e8063fb-01d4-43a8-bc92-d33012bb45fa",
       "rows": [
        [
         "categoria_produto",
         "0.8518518518518519",
         "0.8846153846153846",
         "0.8679245283018868"
        ],
        [
         "produto_especifico",
         "1.0",
         "1.0",
         "1.0"
        ]
       ],
       "shape": {
        "columns": 3,
        "rows": 2
       }
      },
      "text/html": [
       "<div>\n",
       "<style scoped>\n",
       "    .dataframe tbody tr th:only-of-type {\n",
       "        vertical-align: middle;\n",
       "    }\n",
       "\n",
       "    .dataframe tbody tr th {\n",
       "        vertical-align: top;\n",
       "    }\n",
       "\n",
       "    .dataframe thead th {\n",
       "        text-align: right;\n",
       "    }\n",
       "</style>\n",
       "<table border=\"1\" class=\"dataframe\">\n",
       "  <thead>\n",
       "    <tr style=\"text-align: right;\">\n",
       "      <th></th>\n",
       "      <th>p</th>\n",
       "      <th>r</th>\n",
       "      <th>f</th>\n",
       "    </tr>\n",
       "  </thead>\n",
       "  <tbody>\n",
       "    <tr>\n",
       "      <th>categoria_produto</th>\n",
       "      <td>0.851852</td>\n",
       "      <td>0.884615</td>\n",
       "      <td>0.867925</td>\n",
       "    </tr>\n",
       "    <tr>\n",
       "      <th>produto_especifico</th>\n",
       "      <td>1.000000</td>\n",
       "      <td>1.000000</td>\n",
       "      <td>1.000000</td>\n",
       "    </tr>\n",
       "  </tbody>\n",
       "</table>\n",
       "</div>"
      ],
      "text/plain": [
       "                           p         r         f\n",
       "categoria_produto   0.851852  0.884615  0.867925\n",
       "produto_especifico  1.000000  1.000000  1.000000"
      ]
     },
     "metadata": {},
     "output_type": "display_data"
    },
    {
     "name": "stdout",
     "output_type": "stream",
     "text": [
      "\n",
      "--- Relatório de Classificação Detalhado (Tags IOB) ---\n",
      "              precision    recall  f1-score   support\n",
      "\n",
      "           B       0.92      0.94      0.93        50\n",
      "           I       0.97      0.97      0.97        59\n",
      "           O       0.99      0.98      0.99       239\n",
      "\n",
      "    accuracy                           0.97       348\n",
      "   macro avg       0.96      0.96      0.96       348\n",
      "weighted avg       0.97      0.97      0.97       348\n",
      "\n",
      "\n",
      "--- Matriz de Confusão (Tags IOB) ---\n"
     ]
    },
    {
     "data": {
      "image/png": "[encoded data removed]",
      "text/plain": [
       "<Figure size 1000x800 with 2 Axes>"
      ]
     },
     "metadata": {},
     "output_type": "display_data"
    }
   ],
   "source": [
    "import spacy\n",
    "from spacy.training.example import Example\n",
    "from spacy.scorer import Scorer\n",
    "from spacy.training import iob_utils\n",
    "from sklearn.metrics import classification_report, confusion_matrix\n",
    "import seaborn as sns\n",
    "import matplotlib.pyplot as plt\n",
    "import pandas as pd\n",
    "\n",
    "# --- 1. CARREGAR O MODELO JÁ TREINADO ---\n",
    "DIRETORIO_SAIDA = f\"../models/{dataset.replace('.json', '_finetuned_correto')}\"\n",
    "nlp_treinado = spacy.load(DIRETORIO_SAIDA)\n",
    "\n",
    "# --- 2. FUNÇÃO DE AVALIAÇÃO ROBUSTA (CORRIGIDA) ---\n",
    "def avaliar_e_exibir_resultados(nlp_model, dados_para_teste, nome_do_conjunto):\n",
    "    \"\"\"\n",
    "    Executa uma avaliação completa em um conjunto de dados, exibindo métricas,\n",
    "    relatório de classificação e matriz de confusão.\n",
    "    \"\"\"\n",
    "    print(f\"\\n{'='*20} AVALIANDO CONJUNTO: {nome_do_conjunto.upper()} {'='*20}\")\n",
    "    \n",
    "    # Usamos a mesma função de conversão das células anteriores\n",
    "    dados_formatados = converter_para_formato_spacy(dados_para_teste)\n",
    "    if not dados_formatados:\n",
    "        print(\"Nenhum dado válido para avaliação neste conjunto.\")\n",
    "        return\n",
    "\n",
    "    scorer = Scorer()\n",
    "    examples = []\n",
    "    y_true_iob = []\n",
    "    y_pred_iob = []\n",
    "\n",
    "    for text, annotations in dados_formatados:\n",
    "        doc_pred = nlp_model(text)\n",
    "        example = Example.from_dict(doc_pred, annotations)\n",
    "        examples.append(example)\n",
    "        \n",
    "        # ===================================================================\n",
    "        # CORREÇÃO APLICADA AQUI:\n",
    "        # Extraímos a lista de tags IOB de cada token antes de converter.\n",
    "        # ===================================================================\n",
    "        gold_tags = [token.ent_iob_ for token in example.reference]\n",
    "        pred_tags = [token.ent_iob_ for token in example.predicted]\n",
    "\n",
    "        y_true_iob.extend(iob_utils.biluo_to_iob(gold_tags))\n",
    "        y_pred_iob.extend(iob_utils.biluo_to_iob(pred_tags))\n",
    "\n",
    "    scores = scorer.score(examples)\n",
    "    print(f\"\\n--- Métricas Gerais (spaCy Scorer) ---\")\n",
    "    print(f\"Precisão (P): {scores['ents_p']:.3f}\")\n",
    "    print(f\"Recall (R): {scores['ents_r']:.3f}\")\n",
    "    print(f\"F-Score (F1): {scores['ents_f']:.3f}\")\n",
    "\n",
    "    print(f\"\\n--- Desempenho por Tipo de Entidade ---\")\n",
    "    df_per_type = pd.DataFrame(scores.get('ents_per_type', {})).T.sort_index()\n",
    "    if not df_per_type.empty:\n",
    "        display(df_per_type)\n",
    "    else:\n",
    "        print(\"Nenhuma entidade foi detectada ou anotada neste conjunto.\")\n",
    "        \n",
    "    labels_presentes = sorted(list(set(y_true_iob) | set(y_pred_iob)))\n",
    "    \n",
    "    if not labels_presentes:\n",
    "        print(\"Não foi possível gerar Relatório de Classificação ou Matriz de Confusão.\")\n",
    "        return\n",
    "\n",
    "    print(f\"\\n--- Relatório de Classificação Detalhado (Tags IOB) ---\")\n",
    "    print(classification_report(y_true_iob, y_pred_iob, labels=labels_presentes, zero_division=0))\n",
    "\n",
    "    print(f\"\\n--- Matriz de Confusão (Tags IOB) ---\")\n",
    "    plt.figure(figsize=(10, 8))\n",
    "    cm = confusion_matrix(y_true_iob, y_pred_iob, labels=labels_presentes)\n",
    "    sns.heatmap(cm, annot=True, fmt='d', cmap='Blues', \n",
    "                xticklabels=labels_presentes, yticklabels=labels_presentes)\n",
    "    plt.title(f'Matriz de Confusão para o Conjunto: {nome_do_conjunto}')\n",
    "    plt.ylabel('Rótulo Verdadeiro (True Label)')\n",
    "    plt.xlabel('Rótulo Previsto (Predicted Label)')\n",
    "    plt.show()\n",
    "\n",
    "# --- 3. EXECUÇÃO DAS AVALIAÇÕES NOS 3 CONJUNTOS ---\n",
    "# (Você pode descomentar a linha do 'Treino' se quiser ver o desempenho nos dados de treino)\n",
    "# avaliar_e_exibir_resultados(nlp_treinado, dados_treino, \"Treino\")\n",
    "avaliar_e_exibir_resultados(nlp_treinado, dados_dev, \"Teste Visto (Dev)\")\n",
    "avaliar_e_exibir_resultados(nlp_treinado, dados_teste_nao_visto, \"Teste Não Visto\")"
   ]
  },
  {
   "cell_type": "markdown",
   "id": "a0ac142d",
   "metadata": {},
   "source": [
    "*   **As Colunas:**\n",
    "    *   **p (Precisão):** De tudo que o modelo **afirmou** ser um `produto`, quanto ele acertou. Mede a **exatidão**.\n",
    "    *   **r (Recall):** De todos os `produtos` que **realmente existiam**, quantos o modelo conseguiu **encontrar**. Mede a **abrangência**.\n",
    "    *   **f (F1-Score):** A **média harmônica** entre as duas. É a melhor métrica única para avaliar o desempenho geral daquela entidade."
   ]
  },
  {
   "cell_type": "markdown",
   "id": "fb6d3ba9",
   "metadata": {},
   "source": [
    " **começa**, **continua** e **termina**.\n",
    "\n",
    "*   **B** (Beginning): Marca a **primeira** palavra da entidade. (Ex: \"**fone**\")\n",
    "*   **I** (Inside): Marca as palavras do **meio** da entidade. (Ex: \"**de ouvido**\")\n",
    "*   **O** (Outside): Marca qualquer palavra **fora** de uma entidade. (Ex: \"**quero**, **um**\")\n",
    "\n",
    "Sem isso, o modelo não saberia que \"fone de ouvido\" é uma coisa só."
   ]
  }
 ],
 "metadata": {
  "kernelspec": {
   "display_name": ".env",
   "language": "python",
   "name": "python3"
  },
  "language_info": {
   "codemirror_mode": {
    "name": "ipython",
    "version": 3
   },
   "file_extension": ".py",
   "mimetype": "text/x-python",
   "name": "python",
   "nbconvert_exporter": "python",
   "pygments_lexer": "ipython3",
   "version": "3.12.5"
  }
 },
 "nbformat": 4,
 "nbformat_minor": 5
}
