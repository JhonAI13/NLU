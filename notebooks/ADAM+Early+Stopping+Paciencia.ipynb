{
 "cells": [
  {
   "cell_type": "code",
   "execution_count": 1,
   "id": "1cd951d8",
   "metadata": {},
   "outputs": [],
   "source": [
    "# Para manipulação e análise de dados\n",
    "import pandas as pd\n",
    "import numpy as np\n",
    "import json\n",
    "\n",
    "# Para visualização de dados\n",
    "import matplotlib.pyplot as plt\n",
    "import seaborn as sns\n",
    "\n",
    "# analise\n",
    "import spacy\n",
    "from spacy.tokens import DocBin\n",
    "from sklearn.model_selection import train_test_split\n",
    "from sklearn.feature_extraction.text import TfidfVectorizer\n",
    "from sklearn.linear_model import LogisticRegression\n",
    "from sklearn.metrics import classification_report, accuracy_score, confusion_matrix\n",
    "\n",
    "# Para salvar o modelo treinado\n",
    "import pickle\n",
    "\n",
    "\n",
    "import json\n",
    "import pandas as pd\n",
    "from sklearn.model_selection import train_test_split\n",
    "from collections import Counter\n",
    "\n",
    "\n",
    "from sklearn.model_selection import train_test_split\n",
    "from collections import Counter"
   ]
  },
  {
   "cell_type": "code",
   "execution_count": 2,
   "id": "74d09f55",
   "metadata": {},
   "outputs": [],
   "source": [
    "dataset = 'loja_de_madeira.json'\n",
    "caminho_dataset = f'../datasets/{dataset}'\n",
    "nlp = spacy.load(\"pt_core_news_lg\")\n",
    "nlp = spacy.blank(\"pt\")\n",
    "\n",
    "PERCENTUAL_TREINO = 0.7  \n",
    "RANDOM_STATE = 42\n",
    "\n",
    "# --- CONFIGURAÇÃO PARA O TREINO ---\n",
    "EPOCAS = 30          # Número MÁXIMO de épocas. O treino pode parar antes.\n",
    "PATIENCE = 5         # Número de épocas para esperar sem melhora no F1-Score antes de parar."
   ]
  },
  {
   "cell_type": "code",
   "execution_count": 3,
   "id": "19cc9f47",
   "metadata": {},
   "outputs": [
    {
     "name": "stdout",
     "output_type": "stream",
     "text": [
      "Criando rótulos de estratificação baseados apenas na intenção...\n",
      "Divisão principal: 631 exemplos de treino, 271 para teste/dev.\n",
      "Subdivisão: 135 exemplos de desenvolvimento, 136 para teste não visto.\n",
      "\n",
      "Verificando a distribuição dos valores das entidades:\n"
     ]
    },
    {
     "data": {
      "application/vnd.microsoft.datawrangler.viewer.v0+json": {
       "columns": [
        {
         "name": "index",
         "rawType": "object",
         "type": "string"
        },
        {
         "name": "Contagem Treino",
         "rawType": "int32",
         "type": "integer"
        },
        {
         "name": "Contagem Dev",
         "rawType": "int32",
         "type": "integer"
        },
        {
         "name": "Contagem Teste Não Visto",
         "rawType": "int32",
         "type": "integer"
        }
       ],
       "ref": "b6d3f9a4-ecb0-4ffd-8467-0ac9f3f07855",
       "rows": [
        [
         "Assoalho de Ipê",
         "5",
         "1",
         "2"
        ],
        [
         "Assoalho de Jatobá",
         "8",
         "0",
         "1"
        ],
        [
         "Chapa de Compensado Naval",
         "5",
         "2",
         "0"
        ],
        [
         "Chapa de MDF",
         "6",
         "2",
         "1"
        ],
        [
         "Deck de Cumaru",
         "8",
         "0",
         "2"
        ],
        [
         "Deck de Itaúba",
         "8",
         "1",
         "0"
        ],
        [
         "Forro de Angelim",
         "5",
         "1",
         "2"
        ],
        [
         "Ipê",
         "1",
         "0",
         "0"
        ],
        [
         "Janela de Angelim Pedra",
         "5",
         "1",
         "2"
        ],
        [
         "MDP",
         "1",
         "0",
         "0"
        ],
        [
         "OSB",
         "1",
         "0",
         "0"
        ],
        [
         "Painel de Pinus Elliottis",
         "5",
         "2",
         "1"
        ],
        [
         "Painel de Teca",
         "5",
         "2",
         "1"
        ],
        [
         "Porta de Cedro Arana",
         "6",
         "3",
         "1"
        ],
        [
         "Tábua de Eucalipto",
         "4",
         "2",
         "0"
        ],
        [
         "Tábua de Pinus",
         "4",
         "1",
         "4"
        ],
        [
         "Verniz Cetol Deck",
         "6",
         "0",
         "0"
        ],
        [
         "Verniz Sparlack",
         "4",
         "1",
         "1"
        ],
        [
         "Viga de Cambará",
         "7",
         "1",
         "2"
        ],
        [
         "Viga de Garapeira",
         "7",
         "1",
         "0"
        ],
        [
         "Vigas de Garapeira",
         "0",
         "0",
         "1"
        ],
        [
         "acessórios para móveis",
         "1",
         "0",
         "0"
        ],
        [
         "artigos de decoração em madeira",
         "1",
         "0",
         "0"
        ],
        [
         "artigos para jardinagem",
         "0",
         "1",
         "0"
        ],
        [
         "assoalho",
         "4",
         "0",
         "1"
        ],
        [
         "assoalhos",
         "11",
         "1",
         "2"
        ],
        [
         "bancos de madeira",
         "1",
         "0",
         "0"
        ],
        [
         "batentes de porta",
         "1",
         "0",
         "0"
        ],
        [
         "caibros",
         "1",
         "0",
         "0"
        ],
        [
         "chapa de madeira",
         "1",
         "1",
         "0"
        ],
        [
         "chapas de MDF",
         "1",
         "0",
         "0"
        ],
        [
         "chapas de madeira",
         "11",
         "4",
         "1"
        ],
        [
         "colas para madeira",
         "1",
         "0",
         "0"
        ],
        [
         "compensado naval",
         "1",
         "0",
         "0"
        ],
        [
         "corrimãos",
         "1",
         "0",
         "0"
        ],
        [
         "deck",
         "3",
         "0",
         "0"
        ],
        [
         "deck de madeira",
         "1",
         "0",
         "0"
        ],
        [
         "decks",
         "1",
         "0",
         "1"
        ],
        [
         "decks de madeira",
         "13",
         "1",
         "1"
        ],
        [
         "decks para piscina",
         "1",
         "0",
         "0"
        ],
        [
         "degraus de escada",
         "1",
         "0",
         "0"
        ],
        [
         "dobradiças",
         "0",
         "0",
         "1"
        ],
        [
         "dormentes",
         "1",
         "0",
         "0"
        ],
        [
         "equipamentos de proteção",
         "1",
         "0",
         "0"
        ],
        [
         "escadas de madeira",
         "0",
         "1",
         "0"
        ],
        [
         "escoras para laje",
         "0",
         "1",
         "0"
        ],
        [
         "ferragens",
         "0",
         "0",
         "1"
        ],
        [
         "ferramentas para marcenaria",
         "1",
         "0",
         "0"
        ],
        [
         "forro",
         "1",
         "0",
         "1"
        ],
        [
         "forros",
         "5",
         "1",
         "1"
        ]
       ],
       "shape": {
        "columns": 3,
        "rows": 94
       }
      },
      "text/html": [
       "<div>\n",
       "<style scoped>\n",
       "    .dataframe tbody tr th:only-of-type {\n",
       "        vertical-align: middle;\n",
       "    }\n",
       "\n",
       "    .dataframe tbody tr th {\n",
       "        vertical-align: top;\n",
       "    }\n",
       "\n",
       "    .dataframe thead th {\n",
       "        text-align: right;\n",
       "    }\n",
       "</style>\n",
       "<table border=\"1\" class=\"dataframe\">\n",
       "  <thead>\n",
       "    <tr style=\"text-align: right;\">\n",
       "      <th></th>\n",
       "      <th>Contagem Treino</th>\n",
       "      <th>Contagem Dev</th>\n",
       "      <th>Contagem Teste Não Visto</th>\n",
       "    </tr>\n",
       "  </thead>\n",
       "  <tbody>\n",
       "    <tr>\n",
       "      <th>Assoalho de Ipê</th>\n",
       "      <td>5</td>\n",
       "      <td>1</td>\n",
       "      <td>2</td>\n",
       "    </tr>\n",
       "    <tr>\n",
       "      <th>Assoalho de Jatobá</th>\n",
       "      <td>8</td>\n",
       "      <td>0</td>\n",
       "      <td>1</td>\n",
       "    </tr>\n",
       "    <tr>\n",
       "      <th>Chapa de Compensado Naval</th>\n",
       "      <td>5</td>\n",
       "      <td>2</td>\n",
       "      <td>0</td>\n",
       "    </tr>\n",
       "    <tr>\n",
       "      <th>Chapa de MDF</th>\n",
       "      <td>6</td>\n",
       "      <td>2</td>\n",
       "      <td>1</td>\n",
       "    </tr>\n",
       "    <tr>\n",
       "      <th>Deck de Cumaru</th>\n",
       "      <td>8</td>\n",
       "      <td>0</td>\n",
       "      <td>2</td>\n",
       "    </tr>\n",
       "    <tr>\n",
       "      <th>...</th>\n",
       "      <td>...</td>\n",
       "      <td>...</td>\n",
       "      <td>...</td>\n",
       "    </tr>\n",
       "    <tr>\n",
       "      <th>vernizes</th>\n",
       "      <td>3</td>\n",
       "      <td>0</td>\n",
       "      <td>0</td>\n",
       "    </tr>\n",
       "    <tr>\n",
       "      <th>vernizes e stains</th>\n",
       "      <td>6</td>\n",
       "      <td>1</td>\n",
       "      <td>1</td>\n",
       "    </tr>\n",
       "    <tr>\n",
       "      <th>viga</th>\n",
       "      <td>3</td>\n",
       "      <td>0</td>\n",
       "      <td>0</td>\n",
       "    </tr>\n",
       "    <tr>\n",
       "      <th>vigas</th>\n",
       "      <td>12</td>\n",
       "      <td>2</td>\n",
       "      <td>2</td>\n",
       "    </tr>\n",
       "    <tr>\n",
       "      <th>áreas externas</th>\n",
       "      <td>1</td>\n",
       "      <td>0</td>\n",
       "      <td>0</td>\n",
       "    </tr>\n",
       "  </tbody>\n",
       "</table>\n",
       "<p>94 rows × 3 columns</p>\n",
       "</div>"
      ],
      "text/plain": [
       "                           Contagem Treino  Contagem Dev  \\\n",
       "Assoalho de Ipê                          5             1   \n",
       "Assoalho de Jatobá                       8             0   \n",
       "Chapa de Compensado Naval                5             2   \n",
       "Chapa de MDF                             6             2   \n",
       "Deck de Cumaru                           8             0   \n",
       "...                                    ...           ...   \n",
       "vernizes                                 3             0   \n",
       "vernizes e stains                        6             1   \n",
       "viga                                     3             0   \n",
       "vigas                                   12             2   \n",
       "áreas externas                           1             0   \n",
       "\n",
       "                           Contagem Teste Não Visto  \n",
       "Assoalho de Ipê                                   2  \n",
       "Assoalho de Jatobá                                1  \n",
       "Chapa de Compensado Naval                         0  \n",
       "Chapa de MDF                                      1  \n",
       "Deck de Cumaru                                    2  \n",
       "...                                             ...  \n",
       "vernizes                                          0  \n",
       "vernizes e stains                                 1  \n",
       "viga                                              0  \n",
       "vigas                                             2  \n",
       "áreas externas                                    0  \n",
       "\n",
       "[94 rows x 3 columns]"
      ]
     },
     "metadata": {},
     "output_type": "display_data"
    }
   ],
   "source": [
    "import json\n",
    "import pandas as pd\n",
    "from collections import Counter\n",
    "from sklearn.model_selection import train_test_split\n",
    "from IPython.display import display\n",
    "\n",
    "# --- Constantes (assumindo que já as tem definidas) ---\n",
    "# caminho_dataset = \"seu_caminho/para/o_arquivo.json\"\n",
    "# PERCENTUAL_TREINO = 0.7\n",
    "# RANDOM_STATE = 42\n",
    "\n",
    "# --- Carregamento ---\n",
    "with open(caminho_dataset, 'r', encoding='utf-8') as f:\n",
    "    data = json.load(f)\n",
    "\n",
    "# MUDANÇA AQUI: Simplificamos os rótulos para usar apenas a intenção.\n",
    "# Isso é mais robusto e evita o erro de \"classe com 1 membro\".\n",
    "print(\"Criando rótulos de estratificação baseados apenas na intenção...\")\n",
    "stratify_labels = [item['intent'] for item in data]\n",
    "\n",
    "# --- Divisão Principal: Treino vs. Teste Geral (que será subdividido) ---\n",
    "dados_treino, dados_teste_geral = train_test_split(\n",
    "    data,\n",
    "    train_size=PERCENTUAL_TREINO,\n",
    "    random_state=RANDOM_STATE,\n",
    "    stratify=stratify_labels  # Usando os rótulos simplificados\n",
    ")\n",
    "print(f\"Divisão principal: {len(dados_treino)} exemplos de treino, {len(dados_teste_geral)} para teste/dev.\")\n",
    "\n",
    "# MUDANÇA AQUI TAMBÉM: Aplicamos a mesma lógica para a segunda divisão.\n",
    "stratify_labels_teste = [item['intent'] for item in dados_teste_geral]\n",
    "\n",
    "# `dados_dev` mantém seu nome original, e o novo conjunto é criado a partir da outra metade\n",
    "dados_dev, dados_teste_nao_visto = train_test_split(\n",
    "    dados_teste_geral,\n",
    "    test_size=0.5, # Divide o conjunto de teste exatamente ao meio\n",
    "    random_state=RANDOM_STATE,\n",
    "    stratify=stratify_labels_teste # Usando os rótulos simplificados\n",
    ")\n",
    "print(f\"Subdivisão: {len(dados_dev)} exemplos de desenvolvimento, {len(dados_teste_nao_visto)} para teste não visto.\")\n",
    "\n",
    "\n",
    "# --- Verificação da Distribuição (como no seu código original) ---\n",
    "print(\"\\nVerificando a distribuição dos valores das entidades:\")\n",
    "df_treino = pd.DataFrame(dados_treino)\n",
    "df_dev = pd.DataFrame(dados_dev)\n",
    "df_test_nao_visto = pd.DataFrame(dados_teste_nao_visto) # Adicionado para verificação completa\n",
    "\n",
    "def contar_valores(df):\n",
    "    # Lógica ligeiramente ajustada para ser mais segura com possíveis listas vazias\n",
    "    return Counter(\n",
    "        v['value'] \n",
    "        for ents in df['entities'].dropna() \n",
    "        if isinstance(ents, list) \n",
    "        for v in ents\n",
    "    )\n",
    "\n",
    "contagem_treino = contar_valores(df_treino)\n",
    "contagem_dev = contar_valores(df_dev)\n",
    "contagem_teste_nao_visto = contar_valores(df_test_nao_visto)\n",
    "\n",
    "df_dist_valores = pd.DataFrame({\n",
    "    'Contagem Treino': pd.Series(contagem_treino),\n",
    "    'Contagem Dev': pd.Series(contagem_dev),\n",
    "    'Contagem Teste Não Visto': pd.Series(contagem_teste_nao_visto)\n",
    "}).fillna(0).astype(int).sort_index()\n",
    "\n",
    "display(df_dist_valores)\n",
    "\n",
    "# O restante do seu código usará:\n",
    "# 1. dados_treino (para treinar)\n",
    "# 2. dados_dev (para o teste \"visto\", a primeira metade)\n",
    "# 3. dados_teste_nao_visto (para o teste \"não visto\", a segunda metade)"
   ]
  },
  {
   "cell_type": "code",
   "execution_count": 4,
   "id": "0cad2957",
   "metadata": {},
   "outputs": [],
   "source": [
    "# Célula 4 - Código Completo e Corrigido\n",
    "\n",
    "import spacy\n",
    "import random\n",
    "import json\n",
    "from spacy.training.example import Example\n",
    "from spacy.scorer import Scorer\n",
    "\n",
    "# --- 1. CONVERSÃO DOS DADOS JÁ SEPARADOS ---\n",
    "\n",
    "# Função auxiliar para converter o formato para o que o spaCy precisa\n",
    "def converter_para_formato_spacy(dados):\n",
    "    dados_formatados = []\n",
    "    for item in dados:\n",
    "        texto = item['text']\n",
    "        entidades_validas = []\n",
    "        for ent in item.get('entities', []):\n",
    "            # ===================================================================\n",
    "            # MUDANÇA CRUCIAL AQUI:\n",
    "            # Só adiciona a entidade se ela tiver os índices 'start' e 'end'.\n",
    "            # Isso garante que apenas entidades textuais sejam usadas para o treino do NER.\n",
    "            # ===================================================================\n",
    "            if 'start' in ent and 'end' in ent:\n",
    "                entidades_validas.append((ent['start'], ent['end'], ent['entity']))\n",
    "        \n",
    "        # Só adiciona o exemplo se ele tiver entidades válidas para o treino\n",
    "        if entidades_validas:\n",
    "            dados_formatados.append((texto, {\"entities\": entidades_validas}))\n",
    "            \n",
    "    return dados_formatados\n",
    "\n",
    "# Agora usamos as variáveis que você já criou: dados_treino e dados_dev\n",
    "TRAIN_DATA = converter_para_formato_spacy(dados_treino)\n",
    "DEV_DATA = converter_para_formato_spacy(dados_dev)\n",
    "TRAIN_FINISH = converter_para_formato_spacy(dados_teste_nao_visto)\n",
    "\n",
    "# --- 2. CONFIGURAÇÃO DO MODELO (Fine-Tuning) ---\n",
    "DIRETORIO_SAIDA = f\"../models/{dataset.replace('.json', '_finetuned_correto')}\"\n",
    "nlp = spacy.load(\"pt_core_news_md\")\n",
    "ner = nlp.get_pipe(\"ner\")\n",
    "\n",
    "# Adiciona os novos rótulos ao NER existente\n",
    "for _, annotations in TRAIN_DATA:\n",
    "    for ent in annotations.get(\"entities\"):\n",
    "        ner.add_label(ent[2])\n"
   ]
  },
  {
   "cell_type": "code",
   "execution_count": 5,
   "id": "0bb60c5d",
   "metadata": {},
   "outputs": [
    {
     "name": "stdout",
     "output_type": "stream",
     "text": [
      "--- Iniciando Treinamento com Early Stopping ---\n",
      "Otimizador: Adam | Épocas Máx.: 30 | Paciência: 5\n",
      "\n",
      "Iteração 2/30 -> Perda: 169.262 | F1-Score (Dev): 0.530 | Melhor F1: 0.289 (na época 1)\n",
      "🎉 Novo melhor F1-Score na época 2: 0.530. Modelo salvo.\n",
      "Iteração 4/30 -> Perda: 115.109 | F1-Score (Dev): 0.785 | Melhor F1: 0.684 (na época 3)\n",
      "🎉 Novo melhor F1-Score na época 4: 0.785. Modelo salvo.\n",
      "Iteração 6/30 -> Perda: 62.480 | F1-Score (Dev): 0.911 | Melhor F1: 0.909 (na época 5)\n",
      "🎉 Novo melhor F1-Score na época 6: 0.911. Modelo salvo.\n",
      "Iteração 8/30 -> Perda: 48.806 | F1-Score (Dev): 0.900 | Melhor F1: 0.937 (na época 7)\n",
      "Iteração 14/30 -> Perda: 4.810 | F1-Score (Dev): 0.937 | Melhor F1: 0.974 (na época 9))\n",
      "\n",
      "--- Paciência atingida (5 épocas sem melhora). Parada antecipada. ---\n",
      "\n",
      "Carregando e salvando o melhor modelo (da época 9) com F1-Score de 0.974\n",
      "✅ Modelo final salvo em '../models/loja_de_madeira_finetuned_correto'\n"
     ]
    }
   ],
   "source": [
    "# Célula de Treinamento (Corrigida) - Com Early Stopping e Prints Ajustados\n",
    "\n",
    "import spacy\n",
    "import random\n",
    "from spacy.training.example import Example\n",
    "from spacy.scorer import Scorer\n",
    "\n",
    "# --- 1. PREPARAÇÃO DO TREINAMENTO ---\n",
    "other_pipes = [pipe for pipe in nlp.pipe_names if pipe != \"ner\"]\n",
    "\n",
    "# Variáveis para o controle do Early Stopping\n",
    "best_f1_score = 0.0\n",
    "patience_counter = 0\n",
    "best_model_data = None\n",
    "saved_at_iteration = -1\n",
    "\n",
    "print(\"--- Iniciando Treinamento com Early Stopping ---\")\n",
    "print(f\"Otimizador: Adam | Épocas Máx.: {EPOCAS} | Paciência: {PATIENCE}\")\n",
    "\n",
    "# --- 2. CICLO DE TREINAMENTO ---\n",
    "with nlp.select_pipes(disable=other_pipes):\n",
    "    optimizer = nlp.begin_training()\n",
    "    \n",
    "    for iteration in range(EPOCAS):\n",
    "        random.shuffle(TRAIN_DATA)\n",
    "        losses = {}\n",
    "        \n",
    "        # Treinamento\n",
    "        for text, annotations in TRAIN_DATA:\n",
    "            doc = nlp.make_doc(text)\n",
    "            example = Example.from_dict(doc, annotations)\n",
    "            nlp.update([example], sgd=optimizer, drop=0.35, losses=losses)\n",
    "            \n",
    "        # Avaliação no conjunto Dev\n",
    "        scorer = Scorer()\n",
    "        examples_dev = []\n",
    "        for text, annotations in DEV_DATA:\n",
    "            doc_pred = nlp(text)\n",
    "            example = Example.from_dict(doc_pred, annotations)\n",
    "            examples_dev.append(example)\n",
    "        \n",
    "        scores = scorer.score(examples_dev)\n",
    "        current_f1 = scores['ents_f']\n",
    "\n",
    "        # --- LÓGICA DE IMPRESSÃO CORRIGIDA ---\n",
    "        # 1. Imprime o status a cada 2 épocas\n",
    "        if (iteration + 1) % 2 == 0:\n",
    "            print(f\"\\rIteração {iteration + 1}/{EPOCAS} -> Perda: {losses['ner']:.3f} | F1-Score (Dev): {current_f1:.3f} | Melhor F1: {best_f1_score:.3f} (na época {saved_at_iteration})\", end=\"\")\n",
    "\n",
    "        # 2. Verifica se houve melhora e imprime APENAS se houver\n",
    "        if current_f1 > best_f1_score:\n",
    "            best_f1_score = current_f1\n",
    "            patience_counter = 0\n",
    "            best_model_data = nlp.to_bytes()\n",
    "            saved_at_iteration = iteration + 1\n",
    "            # Limpa a linha e imprime a mensagem de melhoria\n",
    "            print(f\"\\n🎉 Novo melhor F1-Score na época {saved_at_iteration}: {best_f1_score:.3f}. Modelo salvo.\", end=\"\")\n",
    "        else:\n",
    "            patience_counter += 1\n",
    "\n",
    "        # 3. Verifica se a paciência esgotou\n",
    "        if patience_counter >= PATIENCE:\n",
    "            print(f\"\\n\\n--- Paciência atingida ({PATIENCE} épocas sem melhora). Parada antecipada. ---\")\n",
    "            break\n",
    "\n",
    "# --- 3. FINALIZAÇÃO ---\n",
    "if best_model_data:\n",
    "    nlp.from_bytes(best_model_data)\n",
    "    print(f\"\\nCarregando e salvando o melhor modelo (da época {saved_at_iteration}) com F1-Score de {best_f1_score:.3f}\")\n",
    "else:\n",
    "    print(\"\\nNenhum modelo foi salvo, o treino não mostrou melhorias.\")\n",
    "\n",
    "nlp.to_disk(DIRETORIO_SAIDA)\n",
    "print(f\"✅ Modelo final salvo em '{DIRETORIO_SAIDA}'\")"
   ]
  },
  {
   "cell_type": "code",
   "execution_count": 6,
   "id": "dc465bd9",
   "metadata": {},
   "outputs": [
    {
     "name": "stdout",
     "output_type": "stream",
     "text": [
      "\n",
      "==================== AVALIANDO CONJUNTO: TESTE VISTO (DEV) ====================\n",
      "\n",
      "--- Métricas Gerais (spaCy Scorer) ---\n",
      "Precisão (P): 0.974\n",
      "Recall (R): 0.974\n",
      "F-Score (F1): 0.974\n",
      "\n",
      "--- Desempenho por Tipo de Entidade ---\n"
     ]
    },
    {
     "data": {
      "application/vnd.microsoft.datawrangler.viewer.v0+json": {
       "columns": [
        {
         "name": "index",
         "rawType": "object",
         "type": "string"
        },
        {
         "name": "p",
         "rawType": "float64",
         "type": "float"
        },
        {
         "name": "r",
         "rawType": "float64",
         "type": "float"
        },
        {
         "name": "f",
         "rawType": "float64",
         "type": "float"
        }
       ],
       "ref": "28a4c973-ab66-4cea-a407-082f5a464d49",
       "rows": [
        [
         "categoria_produto",
         "0.9473684210526315",
         "1.0",
         "0.972972972972973"
        ],
        [
         "produto_especifico",
         "1.0",
         "0.9523809523809523",
         "0.975609756097561"
        ]
       ],
       "shape": {
        "columns": 3,
        "rows": 2
       }
      },
      "text/html": [
       "<div>\n",
       "<style scoped>\n",
       "    .dataframe tbody tr th:only-of-type {\n",
       "        vertical-align: middle;\n",
       "    }\n",
       "\n",
       "    .dataframe tbody tr th {\n",
       "        vertical-align: top;\n",
       "    }\n",
       "\n",
       "    .dataframe thead th {\n",
       "        text-align: right;\n",
       "    }\n",
       "</style>\n",
       "<table border=\"1\" class=\"dataframe\">\n",
       "  <thead>\n",
       "    <tr style=\"text-align: right;\">\n",
       "      <th></th>\n",
       "      <th>p</th>\n",
       "      <th>r</th>\n",
       "      <th>f</th>\n",
       "    </tr>\n",
       "  </thead>\n",
       "  <tbody>\n",
       "    <tr>\n",
       "      <th>categoria_produto</th>\n",
       "      <td>0.947368</td>\n",
       "      <td>1.000000</td>\n",
       "      <td>0.972973</td>\n",
       "    </tr>\n",
       "    <tr>\n",
       "      <th>produto_especifico</th>\n",
       "      <td>1.000000</td>\n",
       "      <td>0.952381</td>\n",
       "      <td>0.975610</td>\n",
       "    </tr>\n",
       "  </tbody>\n",
       "</table>\n",
       "</div>"
      ],
      "text/plain": [
       "                           p         r         f\n",
       "categoria_produto   0.947368  1.000000  0.972973\n",
       "produto_especifico  1.000000  0.952381  0.975610"
      ]
     },
     "metadata": {},
     "output_type": "display_data"
    },
    {
     "name": "stdout",
     "output_type": "stream",
     "text": [
      "\n",
      "--- Relatório de Classificação Detalhado (Tags IOB) ---\n",
      "              precision    recall  f1-score   support\n",
      "\n",
      "           B       1.00      1.00      1.00        39\n",
      "           I       1.00      1.00      1.00        74\n",
      "           O       1.00      1.00      1.00       176\n",
      "\n",
      "    accuracy                           1.00       289\n",
      "   macro avg       1.00      1.00      1.00       289\n",
      "weighted avg       1.00      1.00      1.00       289\n",
      "\n",
      "\n",
      "--- Matriz de Confusão (Tags IOB) ---\n"
     ]
    },
    {
     "data": {
      "image/png": "[encoded data removed]",
      "text/plain": [
       "<Figure size 1000x800 with 2 Axes>"
      ]
     },
     "metadata": {},
     "output_type": "display_data"
    },
    {
     "name": "stdout",
     "output_type": "stream",
     "text": [
      "\n",
      "==================== AVALIANDO CONJUNTO: TESTE NÃO VISTO ====================\n",
      "\n",
      "--- Métricas Gerais (spaCy Scorer) ---\n",
      "Precisão (P): 0.892\n",
      "Recall (R): 0.868\n",
      "F-Score (F1): 0.880\n",
      "\n",
      "--- Desempenho por Tipo de Entidade ---\n"
     ]
    },
    {
     "data": {
      "application/vnd.microsoft.datawrangler.viewer.v0+json": {
       "columns": [
        {
         "name": "index",
         "rawType": "object",
         "type": "string"
        },
        {
         "name": "p",
         "rawType": "float64",
         "type": "float"
        },
        {
         "name": "r",
         "rawType": "float64",
         "type": "float"
        },
        {
         "name": "f",
         "rawType": "float64",
         "type": "float"
        }
       ],
       "ref": "5d0505c2-e40e-4183-9ab6-aa879058e832",
       "rows": [
        [
         "categoria_produto",
         "0.7777777777777778",
         "0.8235294117647058",
         "0.7999999999999999"
        ],
        [
         "produto_especifico",
         "1.0",
         "0.9047619047619048",
         "0.9500000000000001"
        ]
       ],
       "shape": {
        "columns": 3,
        "rows": 2
       }
      },
      "text/html": [
       "<div>\n",
       "<style scoped>\n",
       "    .dataframe tbody tr th:only-of-type {\n",
       "        vertical-align: middle;\n",
       "    }\n",
       "\n",
       "    .dataframe tbody tr th {\n",
       "        vertical-align: top;\n",
       "    }\n",
       "\n",
       "    .dataframe thead th {\n",
       "        text-align: right;\n",
       "    }\n",
       "</style>\n",
       "<table border=\"1\" class=\"dataframe\">\n",
       "  <thead>\n",
       "    <tr style=\"text-align: right;\">\n",
       "      <th></th>\n",
       "      <th>p</th>\n",
       "      <th>r</th>\n",
       "      <th>f</th>\n",
       "    </tr>\n",
       "  </thead>\n",
       "  <tbody>\n",
       "    <tr>\n",
       "      <th>categoria_produto</th>\n",
       "      <td>0.777778</td>\n",
       "      <td>0.823529</td>\n",
       "      <td>0.80</td>\n",
       "    </tr>\n",
       "    <tr>\n",
       "      <th>produto_especifico</th>\n",
       "      <td>1.000000</td>\n",
       "      <td>0.904762</td>\n",
       "      <td>0.95</td>\n",
       "    </tr>\n",
       "  </tbody>\n",
       "</table>\n",
       "</div>"
      ],
      "text/plain": [
       "                           p         r     f\n",
       "categoria_produto   0.777778  0.823529  0.80\n",
       "produto_especifico  1.000000  0.904762  0.95"
      ]
     },
     "metadata": {},
     "output_type": "display_data"
    },
    {
     "name": "stdout",
     "output_type": "stream",
     "text": [
      "\n",
      "--- Relatório de Classificação Detalhado (Tags IOB) ---\n",
      "              precision    recall  f1-score   support\n",
      "\n",
      "           B       1.00      0.97      0.99        38\n",
      "           I       0.91      0.96      0.94        55\n",
      "           O       0.98      0.97      0.98       170\n",
      "\n",
      "    accuracy                           0.97       263\n",
      "   macro avg       0.97      0.97      0.97       263\n",
      "weighted avg       0.97      0.97      0.97       263\n",
      "\n",
      "\n",
      "--- Matriz de Confusão (Tags IOB) ---\n"
     ]
    },
    {
     "data": {
      "image/png": "[encoded data removed]",
      "text/plain": [
       "<Figure size 1000x800 with 2 Axes>"
      ]
     },
     "metadata": {},
     "output_type": "display_data"
    }
   ],
   "source": [
    "import spacy\n",
    "from spacy.training.example import Example\n",
    "from spacy.scorer import Scorer\n",
    "from spacy.training import iob_utils\n",
    "from sklearn.metrics import classification_report, confusion_matrix\n",
    "import seaborn as sns\n",
    "import matplotlib.pyplot as plt\n",
    "import pandas as pd\n",
    "\n",
    "# --- 1. CARREGAR O MODELO JÁ TREINADO ---\n",
    "DIRETORIO_SAIDA = f\"../models/{dataset.replace('.json', '_finetuned_correto')}\"\n",
    "nlp_treinado = spacy.load(DIRETORIO_SAIDA)\n",
    "\n",
    "# --- 2. FUNÇÃO DE AVALIAÇÃO ROBUSTA (CORRIGIDA) ---\n",
    "def avaliar_e_exibir_resultados(nlp_model, dados_para_teste, nome_do_conjunto):\n",
    "    \"\"\"\n",
    "    Executa uma avaliação completa em um conjunto de dados, exibindo métricas,\n",
    "    relatório de classificação e matriz de confusão.\n",
    "    \"\"\"\n",
    "    print(f\"\\n{'='*20} AVALIANDO CONJUNTO: {nome_do_conjunto.upper()} {'='*20}\")\n",
    "    \n",
    "    # Usamos a mesma função de conversão das células anteriores\n",
    "    dados_formatados = converter_para_formato_spacy(dados_para_teste)\n",
    "    if not dados_formatados:\n",
    "        print(\"Nenhum dado válido para avaliação neste conjunto.\")\n",
    "        return\n",
    "\n",
    "    scorer = Scorer()\n",
    "    examples = []\n",
    "    y_true_iob = []\n",
    "    y_pred_iob = []\n",
    "\n",
    "    for text, annotations in dados_formatados:\n",
    "        doc_pred = nlp_model(text)\n",
    "        example = Example.from_dict(doc_pred, annotations)\n",
    "        examples.append(example)\n",
    "        \n",
    "        # ===================================================================\n",
    "        # CORREÇÃO APLICADA AQUI:\n",
    "        # Extraímos a lista de tags IOB de cada token antes de converter.\n",
    "        # ===================================================================\n",
    "        gold_tags = [token.ent_iob_ for token in example.reference]\n",
    "        pred_tags = [token.ent_iob_ for token in example.predicted]\n",
    "\n",
    "        y_true_iob.extend(iob_utils.biluo_to_iob(gold_tags))\n",
    "        y_pred_iob.extend(iob_utils.biluo_to_iob(pred_tags))\n",
    "\n",
    "    scores = scorer.score(examples)\n",
    "    print(f\"\\n--- Métricas Gerais (spaCy Scorer) ---\")\n",
    "    print(f\"Precisão (P): {scores['ents_p']:.3f}\")\n",
    "    print(f\"Recall (R): {scores['ents_r']:.3f}\")\n",
    "    print(f\"F-Score (F1): {scores['ents_f']:.3f}\")\n",
    "\n",
    "    print(f\"\\n--- Desempenho por Tipo de Entidade ---\")\n",
    "    df_per_type = pd.DataFrame(scores.get('ents_per_type', {})).T.sort_index()\n",
    "    if not df_per_type.empty:\n",
    "        display(df_per_type)\n",
    "    else:\n",
    "        print(\"Nenhuma entidade foi detectada ou anotada neste conjunto.\")\n",
    "        \n",
    "    labels_presentes = sorted(list(set(y_true_iob) | set(y_pred_iob)))\n",
    "    \n",
    "    if not labels_presentes:\n",
    "        print(\"Não foi possível gerar Relatório de Classificação ou Matriz de Confusão.\")\n",
    "        return\n",
    "\n",
    "    print(f\"\\n--- Relatório de Classificação Detalhado (Tags IOB) ---\")\n",
    "    print(classification_report(y_true_iob, y_pred_iob, labels=labels_presentes, zero_division=0))\n",
    "\n",
    "    print(f\"\\n--- Matriz de Confusão (Tags IOB) ---\")\n",
    "    plt.figure(figsize=(10, 8))\n",
    "    cm = confusion_matrix(y_true_iob, y_pred_iob, labels=labels_presentes)\n",
    "    sns.heatmap(cm, annot=True, fmt='d', cmap='Blues', \n",
    "                xticklabels=labels_presentes, yticklabels=labels_presentes)\n",
    "    plt.title(f'Matriz de Confusão para o Conjunto: {nome_do_conjunto}')\n",
    "    plt.ylabel('Rótulo Verdadeiro (True Label)')\n",
    "    plt.xlabel('Rótulo Previsto (Predicted Label)')\n",
    "    plt.show()\n",
    "\n",
    "# --- 3. EXECUÇÃO DAS AVALIAÇÕES NOS 3 CONJUNTOS ---\n",
    "# (Você pode descomentar a linha do 'Treino' se quiser ver o desempenho nos dados de treino)\n",
    "# avaliar_e_exibir_resultados(nlp_treinado, dados_treino, \"Treino\")\n",
    "avaliar_e_exibir_resultados(nlp_treinado, dados_dev, \"Teste Visto (Dev)\")\n",
    "avaliar_e_exibir_resultados(nlp_treinado, dados_teste_nao_visto, \"Teste Não Visto\")"
   ]
  },
  {
   "cell_type": "markdown",
   "id": "a0ac142d",
   "metadata": {},
   "source": [
    "*   **As Colunas:**\n",
    "    *   **p (Precisão):** De tudo que o modelo **afirmou** ser um `produto`, quanto ele acertou. Mede a **exatidão**.\n",
    "    *   **r (Recall):** De todos os `produtos` que **realmente existiam**, quantos o modelo conseguiu **encontrar**. Mede a **abrangência**.\n",
    "    *   **f (F1-Score):** A **média harmônica** entre as duas. É a melhor métrica única para avaliar o desempenho geral daquela entidade."
   ]
  },
  {
   "cell_type": "markdown",
   "id": "fb6d3ba9",
   "metadata": {},
   "source": [
    " **começa**, **continua** e **termina**.\n",
    "\n",
    "*   **B** (Beginning): Marca a **primeira** palavra da entidade. (Ex: \"**fone**\")\n",
    "*   **I** (Inside): Marca as palavras do **meio** da entidade. (Ex: \"**de ouvido**\")\n",
    "*   **O** (Outside): Marca qualquer palavra **fora** de uma entidade. (Ex: \"**quero**, **um**\")\n",
    "\n",
    "Sem isso, o modelo não saberia que \"fone de ouvido\" é uma coisa só."
   ]
  }
 ],
 "metadata": {
  "kernelspec": {
   "display_name": ".env",
   "language": "python",
   "name": "python3"
  },
  "language_info": {
   "codemirror_mode": {
    "name": "ipython",
    "version": 3
   },
   "file_extension": ".py",
   "mimetype": "text/x-python",
   "name": "python",
   "nbconvert_exporter": "python",
   "pygments_lexer": "ipython3",
   "version": "3.12.5"
  }
 },
 "nbformat": 4,
 "nbformat_minor": 5
}
